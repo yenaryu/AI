{
 "cells": [
  {
   "cell_type": "markdown",
   "id": "85fb3534",
   "metadata": {},
   "source": [
    "# Movielens 영화 추천 실습\n",
    "## 1) 데이터 준비와 전처리"
   ]
  },
  {
   "cell_type": "code",
   "execution_count": 72,
   "id": "a4d94446",
   "metadata": {},
   "outputs": [],
   "source": [
    "import pandas as pd\n",
    "import os\n",
    "from scipy.sparse import csr_matrix\n",
    "from implicit.als import AlternatingLeastSquares\n",
    "import os\n",
    "import numpy as np"
   ]
  },
  {
   "cell_type": "code",
   "execution_count": 23,
   "id": "1a9e8aa3",
   "metadata": {},
   "outputs": [
    {
     "data": {
      "text/html": [
       "<div>\n",
       "<style scoped>\n",
       "    .dataframe tbody tr th:only-of-type {\n",
       "        vertical-align: middle;\n",
       "    }\n",
       "\n",
       "    .dataframe tbody tr th {\n",
       "        vertical-align: top;\n",
       "    }\n",
       "\n",
       "    .dataframe thead th {\n",
       "        text-align: right;\n",
       "    }\n",
       "</style>\n",
       "<table border=\"1\" class=\"dataframe\">\n",
       "  <thead>\n",
       "    <tr style=\"text-align: right;\">\n",
       "      <th></th>\n",
       "      <th>user_id</th>\n",
       "      <th>movie_id</th>\n",
       "      <th>ratings</th>\n",
       "      <th>timestamp</th>\n",
       "    </tr>\n",
       "  </thead>\n",
       "  <tbody>\n",
       "    <tr>\n",
       "      <th>0</th>\n",
       "      <td>1</td>\n",
       "      <td>1193</td>\n",
       "      <td>5</td>\n",
       "      <td>978300760</td>\n",
       "    </tr>\n",
       "    <tr>\n",
       "      <th>1</th>\n",
       "      <td>1</td>\n",
       "      <td>661</td>\n",
       "      <td>3</td>\n",
       "      <td>978302109</td>\n",
       "    </tr>\n",
       "    <tr>\n",
       "      <th>2</th>\n",
       "      <td>1</td>\n",
       "      <td>914</td>\n",
       "      <td>3</td>\n",
       "      <td>978301968</td>\n",
       "    </tr>\n",
       "    <tr>\n",
       "      <th>3</th>\n",
       "      <td>1</td>\n",
       "      <td>3408</td>\n",
       "      <td>4</td>\n",
       "      <td>978300275</td>\n",
       "    </tr>\n",
       "    <tr>\n",
       "      <th>4</th>\n",
       "      <td>1</td>\n",
       "      <td>2355</td>\n",
       "      <td>5</td>\n",
       "      <td>978824291</td>\n",
       "    </tr>\n",
       "  </tbody>\n",
       "</table>\n",
       "</div>"
      ],
      "text/plain": [
       "   user_id  movie_id  ratings  timestamp\n",
       "0        1      1193        5  978300760\n",
       "1        1       661        3  978302109\n",
       "2        1       914        3  978301968\n",
       "3        1      3408        4  978300275\n",
       "4        1      2355        5  978824291"
      ]
     },
     "execution_count": 23,
     "metadata": {},
     "output_type": "execute_result"
    }
   ],
   "source": [
    "#데이터 준비\n",
    "rating_file_path=os.getenv('HOME') + '/aiffel/recommendata_iu/data/ml-1m/ratings.dat'\n",
    "ratings_cols = ['user_id', 'movie_id', 'ratings', 'timestamp']\n",
    "ratings = pd.read_csv(rating_file_path, sep='::', names=ratings_cols, engine='python', encoding = \"ISO-8859-1\")\n",
    "orginal_data_size = len(ratings)\n",
    "ratings.head()"
   ]
  },
  {
   "cell_type": "code",
   "execution_count": 24,
   "id": "99a630b5",
   "metadata": {},
   "outputs": [
    {
     "name": "stdout",
     "output_type": "stream",
     "text": [
      "orginal_data_size: 1000209, filtered_data_size: 836478\n",
      "Ratio of Remaining Data is 83.63%\n"
     ]
    }
   ],
   "source": [
    "#데이터 전처리\n",
    "ratings = ratings[ratings['ratings']>=3] #ratings 3 미만 데이터 제거\n",
    "filtered_data_size = len(ratings)\n",
    "\n",
    "print(f'orginal_data_size: {orginal_data_size}, filtered_data_size: {filtered_data_size}')\n",
    "print(f'Ratio of Remaining Data is {filtered_data_size / orginal_data_size:.2%}')"
   ]
  },
  {
   "cell_type": "code",
   "execution_count": 25,
   "id": "cfdb0118",
   "metadata": {},
   "outputs": [],
   "source": [
    "#ratings 컬럼 이름 counts로 변경\n",
    "ratings.rename(columns={'ratings':'counts'}, inplace=True)"
   ]
  },
  {
   "cell_type": "code",
   "execution_count": 26,
   "id": "1a8fd101",
   "metadata": {
    "scrolled": true
   },
   "outputs": [
    {
     "data": {
      "text/plain": [
       "0          5\n",
       "1          3\n",
       "2          3\n",
       "3          4\n",
       "4          5\n",
       "          ..\n",
       "1000203    3\n",
       "1000205    5\n",
       "1000206    5\n",
       "1000207    4\n",
       "1000208    4\n",
       "Name: counts, Length: 836478, dtype: int64"
      ]
     },
     "execution_count": 26,
     "metadata": {},
     "output_type": "execute_result"
    }
   ],
   "source": [
    "ratings['counts']"
   ]
  },
  {
   "cell_type": "code",
   "execution_count": 27,
   "id": "bb4c1110",
   "metadata": {
    "scrolled": true
   },
   "outputs": [
    {
     "data": {
      "text/html": [
       "<div>\n",
       "<style scoped>\n",
       "    .dataframe tbody tr th:only-of-type {\n",
       "        vertical-align: middle;\n",
       "    }\n",
       "\n",
       "    .dataframe tbody tr th {\n",
       "        vertical-align: top;\n",
       "    }\n",
       "\n",
       "    .dataframe thead th {\n",
       "        text-align: right;\n",
       "    }\n",
       "</style>\n",
       "<table border=\"1\" class=\"dataframe\">\n",
       "  <thead>\n",
       "    <tr style=\"text-align: right;\">\n",
       "      <th></th>\n",
       "      <th>movie_id</th>\n",
       "      <th>title</th>\n",
       "      <th>genre</th>\n",
       "    </tr>\n",
       "  </thead>\n",
       "  <tbody>\n",
       "    <tr>\n",
       "      <th>0</th>\n",
       "      <td>1</td>\n",
       "      <td>Toy Story (1995)</td>\n",
       "      <td>Animation|Children's|Comedy</td>\n",
       "    </tr>\n",
       "    <tr>\n",
       "      <th>1</th>\n",
       "      <td>2</td>\n",
       "      <td>Jumanji (1995)</td>\n",
       "      <td>Adventure|Children's|Fantasy</td>\n",
       "    </tr>\n",
       "    <tr>\n",
       "      <th>2</th>\n",
       "      <td>3</td>\n",
       "      <td>Grumpier Old Men (1995)</td>\n",
       "      <td>Comedy|Romance</td>\n",
       "    </tr>\n",
       "    <tr>\n",
       "      <th>3</th>\n",
       "      <td>4</td>\n",
       "      <td>Waiting to Exhale (1995)</td>\n",
       "      <td>Comedy|Drama</td>\n",
       "    </tr>\n",
       "    <tr>\n",
       "      <th>4</th>\n",
       "      <td>5</td>\n",
       "      <td>Father of the Bride Part II (1995)</td>\n",
       "      <td>Comedy</td>\n",
       "    </tr>\n",
       "  </tbody>\n",
       "</table>\n",
       "</div>"
      ],
      "text/plain": [
       "   movie_id                               title                         genre\n",
       "0         1                    Toy Story (1995)   Animation|Children's|Comedy\n",
       "1         2                      Jumanji (1995)  Adventure|Children's|Fantasy\n",
       "2         3             Grumpier Old Men (1995)                Comedy|Romance\n",
       "3         4            Waiting to Exhale (1995)                  Comedy|Drama\n",
       "4         5  Father of the Bride Part II (1995)                        Comedy"
      ]
     },
     "execution_count": 27,
     "metadata": {},
     "output_type": "execute_result"
    }
   ],
   "source": [
    "#영화 제목을 보기 위해 메타 데이터 불러오기\n",
    "movie_file_path=os.getenv('HOME') + '/aiffel/recommendata_iu/data/ml-1m/movies.dat'\n",
    "cols = ['movie_id', 'title', 'genre'] \n",
    "movies = pd.read_csv(movie_file_path, sep='::', names=cols, engine='python', encoding='ISO-8859-1')\n",
    "movies.head()"
   ]
  },
  {
   "cell_type": "code",
   "execution_count": 29,
   "id": "816fa521",
   "metadata": {},
   "outputs": [],
   "source": [
    "#MF model을 구성하여 내가 좋아할 만한 영화를 추천"
   ]
  },
  {
   "cell_type": "markdown",
   "id": "094791a7",
   "metadata": {},
   "source": [
    "## 2) 데이터 분석"
   ]
  },
  {
   "cell_type": "code",
   "execution_count": 30,
   "id": "d6ee21ce",
   "metadata": {},
   "outputs": [
    {
     "data": {
      "text/plain": [
       "3628"
      ]
     },
     "execution_count": 30,
     "metadata": {},
     "output_type": "execute_result"
    }
   ],
   "source": [
    "#ratings에 있는 유니크한 영화 개수\n",
    "ratings['movie_id'].nunique()"
   ]
  },
  {
   "cell_type": "code",
   "execution_count": 31,
   "id": "4fd53e5e",
   "metadata": {},
   "outputs": [
    {
     "data": {
      "text/plain": [
       "6039"
      ]
     },
     "execution_count": 31,
     "metadata": {},
     "output_type": "execute_result"
    }
   ],
   "source": [
    "#ratings에 있는 유니크한 사용자 수\n",
    "ratings['user_id'].nunique()"
   ]
  },
  {
   "cell_type": "code",
   "execution_count": 55,
   "id": "93595ede",
   "metadata": {},
   "outputs": [
    {
     "data": {
      "text/html": [
       "<div>\n",
       "<style scoped>\n",
       "    .dataframe tbody tr th:only-of-type {\n",
       "        vertical-align: middle;\n",
       "    }\n",
       "\n",
       "    .dataframe tbody tr th {\n",
       "        vertical-align: top;\n",
       "    }\n",
       "\n",
       "    .dataframe thead th {\n",
       "        text-align: right;\n",
       "    }\n",
       "</style>\n",
       "<table border=\"1\" class=\"dataframe\">\n",
       "  <thead>\n",
       "    <tr style=\"text-align: right;\">\n",
       "      <th></th>\n",
       "      <th>movie_id</th>\n",
       "      <th>title</th>\n",
       "      <th>genre</th>\n",
       "      <th>user_id</th>\n",
       "      <th>counts</th>\n",
       "      <th>timestamp</th>\n",
       "    </tr>\n",
       "  </thead>\n",
       "  <tbody>\n",
       "    <tr>\n",
       "      <th>0</th>\n",
       "      <td>1</td>\n",
       "      <td>Toy Story (1995)</td>\n",
       "      <td>Animation|Children's|Comedy</td>\n",
       "      <td>1</td>\n",
       "      <td>5</td>\n",
       "      <td>978824268</td>\n",
       "    </tr>\n",
       "    <tr>\n",
       "      <th>1</th>\n",
       "      <td>1</td>\n",
       "      <td>Toy Story (1995)</td>\n",
       "      <td>Animation|Children's|Comedy</td>\n",
       "      <td>6</td>\n",
       "      <td>4</td>\n",
       "      <td>978237008</td>\n",
       "    </tr>\n",
       "    <tr>\n",
       "      <th>2</th>\n",
       "      <td>1</td>\n",
       "      <td>Toy Story (1995)</td>\n",
       "      <td>Animation|Children's|Comedy</td>\n",
       "      <td>8</td>\n",
       "      <td>4</td>\n",
       "      <td>978233496</td>\n",
       "    </tr>\n",
       "    <tr>\n",
       "      <th>3</th>\n",
       "      <td>1</td>\n",
       "      <td>Toy Story (1995)</td>\n",
       "      <td>Animation|Children's|Comedy</td>\n",
       "      <td>9</td>\n",
       "      <td>5</td>\n",
       "      <td>978225952</td>\n",
       "    </tr>\n",
       "    <tr>\n",
       "      <th>4</th>\n",
       "      <td>1</td>\n",
       "      <td>Toy Story (1995)</td>\n",
       "      <td>Animation|Children's|Comedy</td>\n",
       "      <td>10</td>\n",
       "      <td>5</td>\n",
       "      <td>978226474</td>\n",
       "    </tr>\n",
       "  </tbody>\n",
       "</table>\n",
       "</div>"
      ],
      "text/plain": [
       "   movie_id             title                        genre  user_id  counts  \\\n",
       "0         1  Toy Story (1995)  Animation|Children's|Comedy        1       5   \n",
       "1         1  Toy Story (1995)  Animation|Children's|Comedy        6       4   \n",
       "2         1  Toy Story (1995)  Animation|Children's|Comedy        8       4   \n",
       "3         1  Toy Story (1995)  Animation|Children's|Comedy        9       5   \n",
       "4         1  Toy Story (1995)  Animation|Children's|Comedy       10       5   \n",
       "\n",
       "   timestamp  \n",
       "0  978824268  \n",
       "1  978237008  \n",
       "2  978233496  \n",
       "3  978225952  \n",
       "4  978226474  "
      ]
     },
     "execution_count": 55,
     "metadata": {},
     "output_type": "execute_result"
    }
   ],
   "source": [
    "movie_df = pd.merge(movies, ratings)\n",
    "movie_df.head()"
   ]
  },
  {
   "cell_type": "code",
   "execution_count": 56,
   "id": "e2fdcb08",
   "metadata": {},
   "outputs": [
    {
     "data": {
      "text/plain": [
       "title\n",
       "American Beauty (1999)                                   3211\n",
       "Star Wars: Episode IV - A New Hope (1977)                2910\n",
       "Star Wars: Episode V - The Empire Strikes Back (1980)    2885\n",
       "Star Wars: Episode VI - Return of the Jedi (1983)        2716\n",
       "Saving Private Ryan (1998)                               2561\n",
       "Terminator 2: Judgment Day (1991)                        2509\n",
       "Silence of the Lambs, The (1991)                         2498\n",
       "Raiders of the Lost Ark (1981)                           2473\n",
       "Back to the Future (1985)                                2460\n",
       "Matrix, The (1999)                                       2434\n",
       "Jurassic Park (1993)                                     2413\n",
       "Sixth Sense, The (1999)                                  2385\n",
       "Fargo (1996)                                             2371\n",
       "Braveheart (1995)                                        2314\n",
       "Men in Black (1997)                                      2297\n",
       "Schindler's List (1993)                                  2257\n",
       "Princess Bride, The (1987)                               2252\n",
       "Shakespeare in Love (1998)                               2213\n",
       "L.A. Confidential (1997)                                 2210\n",
       "Shawshank Redemption, The (1994)                         2194\n",
       "Godfather, The (1972)                                    2167\n",
       "Groundhog Day (1993)                                     2121\n",
       "E.T. the Extra-Terrestrial (1982)                        2102\n",
       "Being John Malkovich (1999)                              2066\n",
       "Ghostbusters (1984)                                      2051\n",
       "Pulp Fiction (1994)                                      2030\n",
       "Forrest Gump (1994)                                      2022\n",
       "Terminator, The (1984)                                   2019\n",
       "Toy Story (1995)                                         2000\n",
       "Fugitive, The (1993)                                     1941\n",
       "Name: user_id, dtype: int64"
      ]
     },
     "execution_count": 56,
     "metadata": {},
     "output_type": "execute_result"
    }
   ],
   "source": [
    "#가장 인기있는 영화 30개(인기순)\n",
    "movies_count = movie_df.groupby('title')['user_id'].count()\n",
    "movies_count.sort_values(ascending=False).head(30)"
   ]
  },
  {
   "cell_type": "markdown",
   "id": "ffc52098",
   "metadata": {},
   "source": [
    "## 3) 선호하는 영화 ratings에 추가"
   ]
  },
  {
   "cell_type": "code",
   "execution_count": 57,
   "id": "91e8735c",
   "metadata": {
    "scrolled": true
   },
   "outputs": [
    {
     "data": {
      "text/html": [
       "<div>\n",
       "<style scoped>\n",
       "    .dataframe tbody tr th:only-of-type {\n",
       "        vertical-align: middle;\n",
       "    }\n",
       "\n",
       "    .dataframe tbody tr th {\n",
       "        vertical-align: top;\n",
       "    }\n",
       "\n",
       "    .dataframe thead th {\n",
       "        text-align: right;\n",
       "    }\n",
       "</style>\n",
       "<table border=\"1\" class=\"dataframe\">\n",
       "  <thead>\n",
       "    <tr style=\"text-align: right;\">\n",
       "      <th></th>\n",
       "      <th>movie_id</th>\n",
       "      <th>title</th>\n",
       "      <th>genre</th>\n",
       "      <th>user_id</th>\n",
       "      <th>counts</th>\n",
       "      <th>timestamp</th>\n",
       "    </tr>\n",
       "  </thead>\n",
       "  <tbody>\n",
       "    <tr>\n",
       "      <th>130190</th>\n",
       "      <td>588</td>\n",
       "      <td>Aladdin (1992)</td>\n",
       "      <td>Animation|Children's|Comedy|Musical</td>\n",
       "      <td>1</td>\n",
       "      <td>4</td>\n",
       "      <td>978824268</td>\n",
       "    </tr>\n",
       "  </tbody>\n",
       "</table>\n",
       "</div>"
      ],
      "text/plain": [
       "        movie_id           title                                genre  \\\n",
       "130190       588  Aladdin (1992)  Animation|Children's|Comedy|Musical   \n",
       "\n",
       "        user_id  counts  timestamp  \n",
       "130190        1       4  978824268  "
      ]
     },
     "execution_count": 57,
     "metadata": {},
     "output_type": "execute_result"
    }
   ],
   "source": [
    "movie_df[movie_df['title'].str.lower().str.contains('aladdin')].head(1)"
   ]
  },
  {
   "cell_type": "code",
   "execution_count": 81,
   "id": "c3a6d7b6",
   "metadata": {},
   "outputs": [
    {
     "data": {
      "text/html": [
       "<div>\n",
       "<style scoped>\n",
       "    .dataframe tbody tr th:only-of-type {\n",
       "        vertical-align: middle;\n",
       "    }\n",
       "\n",
       "    .dataframe tbody tr th {\n",
       "        vertical-align: top;\n",
       "    }\n",
       "\n",
       "    .dataframe thead th {\n",
       "        text-align: right;\n",
       "    }\n",
       "</style>\n",
       "<table border=\"1\" class=\"dataframe\">\n",
       "  <thead>\n",
       "    <tr style=\"text-align: right;\">\n",
       "      <th></th>\n",
       "      <th>user_id</th>\n",
       "      <th>title</th>\n",
       "      <th>counts</th>\n",
       "    </tr>\n",
       "  </thead>\n",
       "  <tbody>\n",
       "    <tr>\n",
       "      <th>0</th>\n",
       "      <td>6039</td>\n",
       "      <td>574</td>\n",
       "      <td>5</td>\n",
       "    </tr>\n",
       "    <tr>\n",
       "      <th>1</th>\n",
       "      <td>6039</td>\n",
       "      <td>935</td>\n",
       "      <td>5</td>\n",
       "    </tr>\n",
       "    <tr>\n",
       "      <th>2</th>\n",
       "      <td>6039</td>\n",
       "      <td>1861</td>\n",
       "      <td>5</td>\n",
       "    </tr>\n",
       "    <tr>\n",
       "      <th>3</th>\n",
       "      <td>6039</td>\n",
       "      <td>575</td>\n",
       "      <td>5</td>\n",
       "    </tr>\n",
       "    <tr>\n",
       "      <th>4</th>\n",
       "      <td>6039</td>\n",
       "      <td>568</td>\n",
       "      <td>5</td>\n",
       "    </tr>\n",
       "    <tr>\n",
       "      <th>0</th>\n",
       "      <td>yena</td>\n",
       "      <td>Snow White and the Seven Dwarfs (1937)</td>\n",
       "      <td>5</td>\n",
       "    </tr>\n",
       "    <tr>\n",
       "      <th>1</th>\n",
       "      <td>yena</td>\n",
       "      <td>Cinderella (1950)</td>\n",
       "      <td>5</td>\n",
       "    </tr>\n",
       "    <tr>\n",
       "      <th>2</th>\n",
       "      <td>yena</td>\n",
       "      <td>Little Mermaid, The (1989)</td>\n",
       "      <td>5</td>\n",
       "    </tr>\n",
       "    <tr>\n",
       "      <th>3</th>\n",
       "      <td>yena</td>\n",
       "      <td>Beauty and the Beast (1991)</td>\n",
       "      <td>5</td>\n",
       "    </tr>\n",
       "    <tr>\n",
       "      <th>4</th>\n",
       "      <td>yena</td>\n",
       "      <td>Aladdin (1992)</td>\n",
       "      <td>5</td>\n",
       "    </tr>\n",
       "  </tbody>\n",
       "</table>\n",
       "</div>"
      ],
      "text/plain": [
       "  user_id                                   title  counts\n",
       "0    6039                                     574       5\n",
       "1    6039                                     935       5\n",
       "2    6039                                    1861       5\n",
       "3    6039                                     575       5\n",
       "4    6039                                     568       5\n",
       "0    yena  Snow White and the Seven Dwarfs (1937)       5\n",
       "1    yena                       Cinderella (1950)       5\n",
       "2    yena              Little Mermaid, The (1989)       5\n",
       "3    yena             Beauty and the Beast (1991)       5\n",
       "4    yena                          Aladdin (1992)       5"
      ]
     },
     "execution_count": 81,
     "metadata": {},
     "output_type": "execute_result"
    }
   ],
   "source": [
    "my_favorite = ['Snow White and the Seven Dwarfs (1937)' , 'Cinderella (1950)' ,'Little Mermaid, The (1989)' ,'Beauty and the Beast (1991)' ,'Aladdin (1992)']\n",
    "\n",
    "my_list = pd.DataFrame({'user_id': ['yena']*5, 'title': my_favorite, 'counts':[5]*5})\n",
    "\n",
    "if not movie_df.isin({'user_id':['yena']})['user_id'].any():  \n",
    "    movie_df = movie_df.append(my_list)                          \n",
    "\n",
    "movie_df.tail(10)  "
   ]
  },
  {
   "cell_type": "code",
   "execution_count": 82,
   "id": "ac5237f6",
   "metadata": {},
   "outputs": [
    {
     "data": {
      "text/html": [
       "<div>\n",
       "<style scoped>\n",
       "    .dataframe tbody tr th:only-of-type {\n",
       "        vertical-align: middle;\n",
       "    }\n",
       "\n",
       "    .dataframe tbody tr th {\n",
       "        vertical-align: top;\n",
       "    }\n",
       "\n",
       "    .dataframe thead th {\n",
       "        text-align: right;\n",
       "    }\n",
       "</style>\n",
       "<table border=\"1\" class=\"dataframe\">\n",
       "  <thead>\n",
       "    <tr style=\"text-align: right;\">\n",
       "      <th></th>\n",
       "      <th>user_id</th>\n",
       "      <th>title</th>\n",
       "      <th>counts</th>\n",
       "    </tr>\n",
       "  </thead>\n",
       "  <tbody>\n",
       "    <tr>\n",
       "      <th>0</th>\n",
       "      <td>0</td>\n",
       "      <td>0</td>\n",
       "      <td>5</td>\n",
       "    </tr>\n",
       "    <tr>\n",
       "      <th>0</th>\n",
       "      <td>yena</td>\n",
       "      <td>Snow White and the Seven Dwarfs (1937)</td>\n",
       "      <td>5</td>\n",
       "    </tr>\n",
       "    <tr>\n",
       "      <th>0</th>\n",
       "      <td>6039</td>\n",
       "      <td>574</td>\n",
       "      <td>5</td>\n",
       "    </tr>\n",
       "    <tr>\n",
       "      <th>1</th>\n",
       "      <td>1</td>\n",
       "      <td>0</td>\n",
       "      <td>4</td>\n",
       "    </tr>\n",
       "    <tr>\n",
       "      <th>1</th>\n",
       "      <td>yena</td>\n",
       "      <td>Cinderella (1950)</td>\n",
       "      <td>5</td>\n",
       "    </tr>\n",
       "    <tr>\n",
       "      <th>...</th>\n",
       "      <td>...</td>\n",
       "      <td>...</td>\n",
       "      <td>...</td>\n",
       "    </tr>\n",
       "    <tr>\n",
       "      <th>836473</th>\n",
       "      <td>2696</td>\n",
       "      <td>3627</td>\n",
       "      <td>3</td>\n",
       "    </tr>\n",
       "    <tr>\n",
       "      <th>836474</th>\n",
       "      <td>2161</td>\n",
       "      <td>3627</td>\n",
       "      <td>4</td>\n",
       "    </tr>\n",
       "    <tr>\n",
       "      <th>836475</th>\n",
       "      <td>1931</td>\n",
       "      <td>3627</td>\n",
       "      <td>3</td>\n",
       "    </tr>\n",
       "    <tr>\n",
       "      <th>836476</th>\n",
       "      <td>2162</td>\n",
       "      <td>3627</td>\n",
       "      <td>4</td>\n",
       "    </tr>\n",
       "    <tr>\n",
       "      <th>836477</th>\n",
       "      <td>3134</td>\n",
       "      <td>3627</td>\n",
       "      <td>4</td>\n",
       "    </tr>\n",
       "  </tbody>\n",
       "</table>\n",
       "<p>836488 rows × 3 columns</p>\n",
       "</div>"
      ],
      "text/plain": [
       "       user_id                                   title  counts\n",
       "0            0                                       0       5\n",
       "0         yena  Snow White and the Seven Dwarfs (1937)       5\n",
       "0         6039                                     574       5\n",
       "1            1                                       0       4\n",
       "1         yena                       Cinderella (1950)       5\n",
       "...        ...                                     ...     ...\n",
       "836473    2696                                    3627       3\n",
       "836474    2161                                    3627       4\n",
       "836475    1931                                    3627       3\n",
       "836476    2162                                    3627       4\n",
       "836477    3134                                    3627       4\n",
       "\n",
       "[836488 rows x 3 columns]"
      ]
     },
     "execution_count": 82,
     "metadata": {},
     "output_type": "execute_result"
    }
   ],
   "source": [
    "# 사용하는 컬럼만 남겨줍니다.\n",
    "movie_df = movie_df[['user_id','title', 'counts']]\n",
    "movie_df.sort_index()"
   ]
  },
  {
   "cell_type": "code",
   "execution_count": 83,
   "id": "d11deb34",
   "metadata": {},
   "outputs": [],
   "source": [
    "# 고유한 유저, 아티스트를 찾아내는 코드\n",
    "user_unique = movie_df['user_id'].unique()\n",
    "movie_unique = movie_df['title'].unique()\n",
    "\n",
    "# 유저, 아티스트 indexing 하는 코드 \n",
    "user_to_idx = {v:k for k,v in enumerate(user_unique)}\n",
    "movie_to_idx = {v:k for k,v in enumerate(movie_unique)}"
   ]
  },
  {
   "cell_type": "code",
   "execution_count": 84,
   "id": "8641060b",
   "metadata": {},
   "outputs": [
    {
     "name": "stdout",
     "output_type": "stream",
     "text": [
      "6040\n",
      "3632\n"
     ]
    }
   ],
   "source": [
    "# 인덱싱이 잘 되었는지 확인해 봅니다. \n",
    "print(user_to_idx['yena'])    # 358869명의 유저 중 마지막으로 추가된 유저이니 358868이 나와야 합니다. \n",
    "print(movie_to_idx['Aladdin (1992)'])"
   ]
  },
  {
   "cell_type": "code",
   "execution_count": 85,
   "id": "a03c2c72",
   "metadata": {},
   "outputs": [
    {
     "name": "stdout",
     "output_type": "stream",
     "text": [
      "user_id column indexing OK!!\n",
      "movie column indexing OK!!\n"
     ]
    },
    {
     "data": {
      "text/html": [
       "<div>\n",
       "<style scoped>\n",
       "    .dataframe tbody tr th:only-of-type {\n",
       "        vertical-align: middle;\n",
       "    }\n",
       "\n",
       "    .dataframe tbody tr th {\n",
       "        vertical-align: top;\n",
       "    }\n",
       "\n",
       "    .dataframe thead th {\n",
       "        text-align: right;\n",
       "    }\n",
       "</style>\n",
       "<table border=\"1\" class=\"dataframe\">\n",
       "  <thead>\n",
       "    <tr style=\"text-align: right;\">\n",
       "      <th></th>\n",
       "      <th>user_id</th>\n",
       "      <th>title</th>\n",
       "      <th>counts</th>\n",
       "    </tr>\n",
       "  </thead>\n",
       "  <tbody>\n",
       "    <tr>\n",
       "      <th>0</th>\n",
       "      <td>0</td>\n",
       "      <td>0</td>\n",
       "      <td>5</td>\n",
       "    </tr>\n",
       "    <tr>\n",
       "      <th>1</th>\n",
       "      <td>1</td>\n",
       "      <td>0</td>\n",
       "      <td>4</td>\n",
       "    </tr>\n",
       "    <tr>\n",
       "      <th>2</th>\n",
       "      <td>2</td>\n",
       "      <td>0</td>\n",
       "      <td>4</td>\n",
       "    </tr>\n",
       "    <tr>\n",
       "      <th>3</th>\n",
       "      <td>3</td>\n",
       "      <td>0</td>\n",
       "      <td>5</td>\n",
       "    </tr>\n",
       "    <tr>\n",
       "      <th>4</th>\n",
       "      <td>4</td>\n",
       "      <td>0</td>\n",
       "      <td>5</td>\n",
       "    </tr>\n",
       "    <tr>\n",
       "      <th>...</th>\n",
       "      <td>...</td>\n",
       "      <td>...</td>\n",
       "      <td>...</td>\n",
       "    </tr>\n",
       "    <tr>\n",
       "      <th>0</th>\n",
       "      <td>6040</td>\n",
       "      <td>3628</td>\n",
       "      <td>5</td>\n",
       "    </tr>\n",
       "    <tr>\n",
       "      <th>1</th>\n",
       "      <td>6040</td>\n",
       "      <td>3629</td>\n",
       "      <td>5</td>\n",
       "    </tr>\n",
       "    <tr>\n",
       "      <th>2</th>\n",
       "      <td>6040</td>\n",
       "      <td>3630</td>\n",
       "      <td>5</td>\n",
       "    </tr>\n",
       "    <tr>\n",
       "      <th>3</th>\n",
       "      <td>6040</td>\n",
       "      <td>3631</td>\n",
       "      <td>5</td>\n",
       "    </tr>\n",
       "    <tr>\n",
       "      <th>4</th>\n",
       "      <td>6040</td>\n",
       "      <td>3632</td>\n",
       "      <td>5</td>\n",
       "    </tr>\n",
       "  </tbody>\n",
       "</table>\n",
       "<p>836488 rows × 3 columns</p>\n",
       "</div>"
      ],
      "text/plain": [
       "    user_id  title  counts\n",
       "0         0      0       5\n",
       "1         1      0       4\n",
       "2         2      0       4\n",
       "3         3      0       5\n",
       "4         4      0       5\n",
       "..      ...    ...     ...\n",
       "0      6040   3628       5\n",
       "1      6040   3629       5\n",
       "2      6040   3630       5\n",
       "3      6040   3631       5\n",
       "4      6040   3632       5\n",
       "\n",
       "[836488 rows x 3 columns]"
      ]
     },
     "execution_count": 85,
     "metadata": {},
     "output_type": "execute_result"
    }
   ],
   "source": [
    "# indexing을 통해 데이터 컬럼 내 값을 바꾸는 코드\n",
    "# dictionary 자료형의 get 함수는 https://wikidocs.net/16 을 참고하세요.\n",
    "\n",
    "# user_to_idx.get을 통해 user_id 컬럼의 모든 값을 인덱싱한 Series를 구해 봅시다. \n",
    "# 혹시 정상적으로 인덱싱되지 않은 row가 있다면 인덱스가 NaN이 될 테니 dropna()로 제거합니다. \n",
    "temp_user_data = movie_df['user_id'].map(user_to_idx.get).dropna()\n",
    "if len(temp_user_data) == len(movie_df):   # 모든 row가 정상적으로 인덱싱되었다면\n",
    "    print('user_id column indexing OK!!')\n",
    "    movie_df['user_id'] = temp_user_data   # data['user_id']을 인덱싱된 Series로 교체해 줍니다. \n",
    "else:\n",
    "    print('user_id column indexing Fail!!')\n",
    "\n",
    "# artist_to_idx을 통해 artist 컬럼도 동일한 방식으로 인덱싱해 줍니다. \n",
    "temp_movie_data = movie_df['title'].map(movie_to_idx.get).dropna()\n",
    "if len(temp_movie_data) == len(movie_df):\n",
    "    print('movie column indexing OK!!')\n",
    "    movie_df['title'] = temp_movie_data\n",
    "else:\n",
    "    print('movie column indexing Fail!!')\n",
    "\n",
    "movie_df"
   ]
  },
  {
   "cell_type": "markdown",
   "id": "9a6e8bef",
   "metadata": {},
   "source": [
    "## 4) CSR matrix 생성"
   ]
  },
  {
   "cell_type": "code",
   "execution_count": 86,
   "id": "56a35be5",
   "metadata": {},
   "outputs": [
    {
     "data": {
      "text/plain": [
       "<6041x3633 sparse matrix of type '<class 'numpy.int64'>'\n",
       "\twith 836488 stored elements in Compressed Sparse Row format>"
      ]
     },
     "execution_count": 86,
     "metadata": {},
     "output_type": "execute_result"
    }
   ],
   "source": [
    "num_user = movie_df['user_id'].nunique()\n",
    "num_movie = movie_df['title'].nunique()\n",
    "\n",
    "csr_data = csr_matrix((movie_df.counts, (movie_df.user_id, movie_df.title)), shape=(num_user, num_movie)) \n",
    "csr_data"
   ]
  },
  {
   "cell_type": "markdown",
   "id": "0bee8366",
   "metadata": {},
   "source": [
    "## 5) als_model = AlternatingLeastSquares 모델 훈련"
   ]
  },
  {
   "cell_type": "code",
   "execution_count": 87,
   "id": "7ab13a30",
   "metadata": {},
   "outputs": [],
   "source": [
    "# implicit 라이브러리에서 권장하고 있는 부분입니다. 학습 내용과는 무관합니다.\n",
    "os.environ['OPENBLAS_NUM_THREADS']='1'\n",
    "os.environ['KMP_DUPLICATE_LIB_OK']='True'\n",
    "os.environ['MKL_NUM_THREADS']='1'"
   ]
  },
  {
   "cell_type": "code",
   "execution_count": 88,
   "id": "4418f90e",
   "metadata": {},
   "outputs": [],
   "source": [
    "# Implicit AlternatingLeastSquares 모델의 선언, iteration은 나중에 바꿔주겠습니다.\n",
    "als_model = AlternatingLeastSquares(factors=100, regularization=0.001, use_gpu=False, iterations=1000, dtype=np.float32)"
   ]
  },
  {
   "cell_type": "code",
   "execution_count": 89,
   "id": "2cc9602a",
   "metadata": {},
   "outputs": [
    {
     "data": {
      "text/plain": [
       "<3633x6041 sparse matrix of type '<class 'numpy.int64'>'\n",
       "\twith 836488 stored elements in Compressed Sparse Column format>"
      ]
     },
     "execution_count": 89,
     "metadata": {},
     "output_type": "execute_result"
    }
   ],
   "source": [
    "# als 모델은 input으로 (item X user 꼴의 matrix를 받기 때문에 Transpose해줍니다.)\n",
    "csr_data_transpose = csr_data.T\n",
    "csr_data_transpose"
   ]
  },
  {
   "cell_type": "code",
   "execution_count": 91,
   "id": "8f054ca6",
   "metadata": {},
   "outputs": [
    {
     "data": {
      "application/vnd.jupyter.widget-view+json": {
       "model_id": "5edcefa740864132b8eb42115f9991e1",
       "version_major": 2,
       "version_minor": 0
      },
      "text/plain": [
       "  0%|          | 0/1000 [00:00<?, ?it/s]"
      ]
     },
     "metadata": {},
     "output_type": "display_data"
    }
   ],
   "source": [
    "als_model.fit(csr_data_transpose) #모델 학습 "
   ]
  },
  {
   "cell_type": "markdown",
   "id": "1c041a09",
   "metadata": {},
   "source": [
    "## 6) 훈련된 모델이 예측한 선호도를 파악하기"
   ]
  },
  {
   "cell_type": "code",
   "execution_count": 93,
   "id": "88ab206d",
   "metadata": {},
   "outputs": [],
   "source": [
    "#나(yena) vector과 Aladdin vector 확인\n",
    "yena, aladdin = user_to_idx['yena'], movie_to_idx['Aladdin (1992)']\n",
    "yena_vector, aladdin_vector = als_model.user_factors[yena], als_model.item_factors[aladdin]"
   ]
  },
  {
   "cell_type": "code",
   "execution_count": 94,
   "id": "353f5afd",
   "metadata": {},
   "outputs": [
    {
     "data": {
      "text/plain": [
       "array([ 4.08206715e-12, -3.93806125e-12,  9.23544661e-12, -1.27602000e-11,\n",
       "       -1.54475981e-11,  1.89627983e-11, -3.69444276e-12, -1.10539564e-11,\n",
       "       -4.22686885e-12,  7.46732797e-12,  1.78872698e-11,  5.41864990e-12,\n",
       "        8.61158627e-12,  8.34068838e-12,  2.16424916e-11, -1.00426065e-11,\n",
       "        2.31118987e-12,  4.78030376e-12,  1.54641560e-11, -7.12546602e-12,\n",
       "       -1.50061023e-11,  1.67485505e-11,  1.34367881e-11,  1.21438328e-11,\n",
       "       -1.10005408e-11, -3.05985814e-12,  1.03105632e-11,  1.39987956e-12,\n",
       "        1.13396055e-11, -5.91925510e-12, -1.88506658e-11,  1.32389516e-11,\n",
       "        6.88869361e-12, -9.06753232e-12, -1.91037498e-11, -2.95975484e-12,\n",
       "       -1.59518180e-11, -1.32520037e-11, -1.75746505e-12, -2.47771205e-12,\n",
       "        1.54078954e-11, -1.51875006e-11,  1.81764499e-11, -1.09898271e-11,\n",
       "       -2.01405455e-11, -1.08121428e-11, -1.25096201e-11, -2.08315179e-12,\n",
       "        1.29172983e-11, -8.01960755e-12,  2.09911862e-11,  9.10443075e-12,\n",
       "        1.03835985e-11,  2.08679688e-11, -9.46470853e-12, -1.11257791e-11,\n",
       "        1.54735825e-11, -1.61058337e-11,  9.32630796e-12, -1.98349705e-11,\n",
       "        9.31741229e-12, -2.74921457e-11,  6.33312239e-12, -7.00459222e-12,\n",
       "        1.98642296e-12,  4.33901786e-12, -2.42079898e-11,  5.50044439e-13,\n",
       "        2.71340025e-13, -1.47424607e-11, -1.64203807e-11,  3.82997974e-12,\n",
       "        2.31420699e-12,  3.08596482e-11,  1.00781458e-11,  7.20599101e-12,\n",
       "        7.49278417e-12,  7.25078071e-12,  2.36473818e-12, -1.13496938e-11,\n",
       "        2.54683514e-11,  9.45787719e-12, -2.53077127e-13,  5.04305235e-12,\n",
       "       -7.03553275e-12,  1.42811717e-11, -1.63694134e-12,  1.79106469e-12,\n",
       "       -1.82603715e-12, -5.35813191e-12,  1.65473115e-12, -5.98391432e-12,\n",
       "       -1.41157745e-11, -2.03520811e-11, -3.82625442e-12, -3.67041206e-12,\n",
       "        1.87111091e-11,  6.51494657e-12,  7.35408522e-12, -1.10454527e-12],\n",
       "      dtype=float32)"
      ]
     },
     "execution_count": 94,
     "metadata": {},
     "output_type": "execute_result"
    }
   ],
   "source": [
    "yena_vector"
   ]
  },
  {
   "cell_type": "code",
   "execution_count": 95,
   "id": "15f7ba55",
   "metadata": {},
   "outputs": [
    {
     "data": {
      "text/plain": [
       "array([ 2.77602195e-15, -6.20274477e-15,  8.97280212e-15, -1.53319926e-14,\n",
       "       -2.02954634e-14,  2.55040875e-14, -6.24706757e-16, -8.50959961e-15,\n",
       "       -3.63897721e-15,  1.00906230e-14,  3.14061182e-14,  8.24682882e-15,\n",
       "        1.98672526e-14,  2.07372283e-14,  2.96312217e-14, -9.36293872e-15,\n",
       "        7.93711884e-15,  7.93803703e-15,  1.95752109e-14, -1.34764805e-14,\n",
       "       -1.22079479e-14,  3.22500747e-14,  3.24715061e-14,  2.54615139e-14,\n",
       "       -2.39009658e-14, -3.30318243e-15,  7.51161015e-15,  5.13048068e-15,\n",
       "        1.70681798e-14, -4.97513018e-15, -2.15111623e-14,  2.05483349e-14,\n",
       "        8.93855404e-15, -1.95190086e-14, -1.98430749e-14,  7.83057735e-15,\n",
       "       -2.60978000e-14, -2.41135897e-14,  5.10498033e-15,  7.96148968e-15,\n",
       "        1.37271566e-14, -2.64690613e-14,  2.04592660e-14, -1.33123408e-14,\n",
       "       -2.22305559e-14, -1.08729173e-14, -1.27947351e-14,  2.80442635e-15,\n",
       "        2.16718021e-14, -4.16987163e-15,  2.66621255e-14,  1.79052838e-14,\n",
       "        1.90841436e-14,  3.73019893e-14, -2.21190406e-14, -1.08555251e-14,\n",
       "        1.71001502e-14, -2.18396417e-14,  1.94642920e-14, -3.17966648e-14,\n",
       "        1.78625916e-14, -4.05394780e-14,  1.30667012e-14, -1.77989108e-15,\n",
       "        7.47215535e-15,  5.74536011e-15, -2.68777750e-14,  6.56709387e-15,\n",
       "        4.37135027e-15, -1.35749320e-14, -1.54232164e-14,  8.60376596e-15,\n",
       "       -4.02567178e-16,  5.36229928e-14,  1.63549272e-14,  1.12221760e-14,\n",
       "        1.61888342e-14,  1.69526936e-14,  8.03696709e-15, -8.97172554e-15,\n",
       "        3.52702080e-14,  1.62239539e-14, -8.25704065e-15,  1.66098248e-14,\n",
       "       -8.39443109e-15,  2.55388853e-14,  4.35957355e-15,  3.25661960e-16,\n",
       "       -3.19228634e-15, -3.53090809e-15,  2.12330238e-15, -5.20351355e-15,\n",
       "       -1.49433688e-14, -1.98646963e-14, -1.09739200e-14,  3.61034326e-15,\n",
       "        3.92699992e-14,  2.03263987e-14,  1.21154104e-14,  5.27127714e-16],\n",
       "      dtype=float32)"
      ]
     },
     "execution_count": 95,
     "metadata": {},
     "output_type": "execute_result"
    }
   ],
   "source": [
    "aladdin_vector"
   ]
  },
  {
   "cell_type": "code",
   "execution_count": 96,
   "id": "a9b9789f",
   "metadata": {},
   "outputs": [
    {
     "data": {
      "text/plain": [
       "2.1126801e-23"
      ]
     },
     "execution_count": 96,
     "metadata": {},
     "output_type": "execute_result"
    }
   ],
   "source": [
    "#vector을 곱했을 때의 값 확인\n",
    "np.dot(yena_vector, aladdin_vector)"
   ]
  },
  {
   "cell_type": "code",
   "execution_count": 99,
   "id": "626b16ed",
   "metadata": {},
   "outputs": [
    {
     "name": "stdout",
     "output_type": "stream",
     "text": [
      "1.9745824e-23\n"
     ]
    }
   ],
   "source": [
    "#snow white and the seven dwarfs vector을 가지고 선호도 예측 확인\n",
    "snow = movie_to_idx['Snow White and the Seven Dwarfs (1937)']\n",
    "snow_vector = als_model.item_factors[snow]\n",
    "\n",
    "print(np.dot(yena_vector, snow_vector))"
   ]
  },
  {
   "cell_type": "markdown",
   "id": "86e7ce55",
   "metadata": {},
   "source": [
    "## 7) 내가 좋아하는 영화와 비슷한 영화를 추천받기"
   ]
  },
  {
   "cell_type": "code",
   "execution_count": 110,
   "id": "74049e42",
   "metadata": {},
   "outputs": [],
   "source": [
    "idx_to_movie = {v:k for k,v in movie_to_idx.items()}\n",
    "\n",
    "def get_similar_movie(movie_name: str):\n",
    "    movie_id = movie_to_idx[movie_name]\n",
    "    similar_movie = als_model.similar_items(movie_id)\n",
    "    similar_movie = [idx_to_movie[i[0]] for i in similar_movie]\n",
    "    return similar_movie"
   ]
  },
  {
   "cell_type": "code",
   "execution_count": 112,
   "id": "cb92844a",
   "metadata": {
    "scrolled": true
   },
   "outputs": [
    {
     "data": {
      "text/plain": [
       "['Aladdin (1992)',\n",
       " 'Little Mermaid, The (1989)',\n",
       " 'Beauty and the Beast (1991)',\n",
       " 'Cinderella (1950)',\n",
       " 'Snow White and the Seven Dwarfs (1937)',\n",
       " 2930,\n",
       " 2735,\n",
       " 3219,\n",
       " 1712,\n",
       " 668]"
      ]
     },
     "execution_count": 112,
     "metadata": {},
     "output_type": "execute_result"
    }
   ],
   "source": [
    "get_similar_movie('Aladdin (1992)') "
   ]
  },
  {
   "cell_type": "markdown",
   "id": "6bb7e248",
   "metadata": {},
   "source": [
    "## 8) 내가 가장 좋아할 만한 영화들을 추천받기"
   ]
  },
  {
   "cell_type": "code",
   "execution_count": 115,
   "id": "bf5bab96",
   "metadata": {},
   "outputs": [
    {
     "data": {
      "text/plain": [
       "[(831, 1.1320752e-11),\n",
       " (462, 9.71701e-12),\n",
       " (832, 9.155527e-12),\n",
       " (998, 8.666855e-12),\n",
       " (1000, 8.568289e-12),\n",
       " (2053, 8.280146e-12),\n",
       " (618, 8.190935e-12),\n",
       " (343, 7.888932e-12),\n",
       " (1113, 7.879445e-12),\n",
       " (1888, 7.763419e-12),\n",
       " (2755, 7.704701e-12),\n",
       " (2480, 7.4133494e-12),\n",
       " (2724, 7.360168e-12),\n",
       " (1455, 7.092802e-12),\n",
       " (1743, 6.894456e-12),\n",
       " (2777, 6.8901967e-12),\n",
       " (2832, 6.6560663e-12),\n",
       " (823, 6.557309e-12),\n",
       " (3149, 6.515641e-12),\n",
       " (1003, 6.1880986e-12)]"
      ]
     },
     "execution_count": 115,
     "metadata": {},
     "output_type": "execute_result"
    }
   ],
   "source": [
    "user = user_to_idx['yena']\n",
    "# recommend에서는 user*item CSR Matrix를 받습니다.\n",
    "movie_recommended = als_model.recommend(user, csr_data, N=20, filter_already_liked_items=True)\n",
    "movie_recommended"
   ]
  },
  {
   "cell_type": "code",
   "execution_count": 116,
   "id": "afe8cba8",
   "metadata": {},
   "outputs": [
    {
     "data": {
      "text/plain": [
       "[831,\n",
       " 462,\n",
       " 832,\n",
       " 998,\n",
       " 1000,\n",
       " 2053,\n",
       " 618,\n",
       " 343,\n",
       " 1113,\n",
       " 1888,\n",
       " 2755,\n",
       " 2480,\n",
       " 2724,\n",
       " 1455,\n",
       " 1743,\n",
       " 2777,\n",
       " 2832,\n",
       " 823,\n",
       " 3149,\n",
       " 1003]"
      ]
     },
     "execution_count": 116,
     "metadata": {},
     "output_type": "execute_result"
    }
   ],
   "source": [
    "[idx_to_movie[i[0]] for i in movie_recommended]"
   ]
  },
  {
   "cell_type": "code",
   "execution_count": 118,
   "id": "389adb90",
   "metadata": {},
   "outputs": [
    {
     "data": {
      "text/plain": [
       "[('Aladdin (1992)', 2.237610434954118e-25),\n",
       " ('Little Mermaid, The (1989)', 2.17031119285293e-25),\n",
       " ('Beauty and the Beast (1991)', 2.1431556212450856e-25),\n",
       " ('Cinderella (1950)', 2.0973632291785555e-25),\n",
       " ('Snow White and the Seven Dwarfs (1937)', 2.092749492222524e-25)]"
      ]
     },
     "execution_count": 118,
     "metadata": {},
     "output_type": "execute_result"
    }
   ],
   "source": [
    "aladdin = movie_to_idx['Aladdin (1992)']\n",
    "explain = als_model.explain(user, csr_data, itemid=aladdin)\n",
    "[(idx_to_movie[i[0]], i[1]) for i in explain[1]]"
   ]
  },
  {
   "cell_type": "markdown",
   "id": "1d13d8d6",
   "metadata": {},
   "source": [
     ]
  }
 ],
 "metadata": {
  "kernelspec": {
   "display_name": "Python 3 (ipykernel)",
   "language": "python",
   "name": "python3"
  },
  "language_info": {
   "codemirror_mode": {
    "name": "ipython",
    "version": 3
   },
   "file_extension": ".py",
   "mimetype": "text/x-python",
   "name": "python",
   "nbconvert_exporter": "python",
   "pygments_lexer": "ipython3",
   "version": "3.9.7"
  }
 },
 "nbformat": 4,
 "nbformat_minor": 5
}
