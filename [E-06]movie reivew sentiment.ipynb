{
 "cells": [
  {
   "cell_type": "markdown",
   "id": "e30ae13a",
   "metadata": {},
   "source": [
    "# 네이버 영화리뷰 감성분석  \n",
    "  \n",
    "  \n",
    "### 1) 데이터 준비와 확인\n",
    "네이버 영화의 댓글을 모아 구성된 한국어 텍스트 감성 분석  \n",
    "Naver sentiment movie corpus Link: https://github.com/e9t/nsmc"
   ]
  },
  {
   "cell_type": "code",
   "execution_count": 8,
   "id": "08ed2c53",
   "metadata": {},
   "outputs": [],
   "source": [
    "import pandas as pd\n",
    "\n",
    "from konlpy.tag import Mecab\n",
    "import numpy as np\n",
    "from collections import Counter\n",
    "\n",
    "from tensorflow import keras\n",
    "import tensorflow as tf\n",
    "import os\n",
    "\n",
    "import matplotlib.pyplot as plt\n",
    "\n",
    "from gensim.models.keyedvectors import Word2VecKeyedVectors\n",
    "\n",
    "from gensim.models import KeyedVectors\n",
    "\n",
    "from tensorflow.keras.initializers import Constant\n",
    "import pprint\n",
    "\n",
    "import gensim\n",
    "import gensim.models"
   ]
  },
  {
   "cell_type": "code",
   "execution_count": 9,
   "id": "f0a2a4b6",
   "metadata": {},
   "outputs": [
    {
     "data": {
      "text/html": [
       "<div>\n",
       "<style scoped>\n",
       "    .dataframe tbody tr th:only-of-type {\n",
       "        vertical-align: middle;\n",
       "    }\n",
       "\n",
       "    .dataframe tbody tr th {\n",
       "        vertical-align: top;\n",
       "    }\n",
       "\n",
       "    .dataframe thead th {\n",
       "        text-align: right;\n",
       "    }\n",
       "</style>\n",
       "<table border=\"1\" class=\"dataframe\">\n",
       "  <thead>\n",
       "    <tr style=\"text-align: right;\">\n",
       "      <th></th>\n",
       "      <th>id</th>\n",
       "      <th>document</th>\n",
       "      <th>label</th>\n",
       "    </tr>\n",
       "  </thead>\n",
       "  <tbody>\n",
       "    <tr>\n",
       "      <th>0</th>\n",
       "      <td>9976970</td>\n",
       "      <td>아 더빙.. 진짜 짜증나네요 목소리</td>\n",
       "      <td>0</td>\n",
       "    </tr>\n",
       "    <tr>\n",
       "      <th>1</th>\n",
       "      <td>3819312</td>\n",
       "      <td>흠...포스터보고 초딩영화줄....오버연기조차 가볍지 않구나</td>\n",
       "      <td>1</td>\n",
       "    </tr>\n",
       "    <tr>\n",
       "      <th>2</th>\n",
       "      <td>10265843</td>\n",
       "      <td>너무재밓었다그래서보는것을추천한다</td>\n",
       "      <td>0</td>\n",
       "    </tr>\n",
       "    <tr>\n",
       "      <th>3</th>\n",
       "      <td>9045019</td>\n",
       "      <td>교도소 이야기구먼 ..솔직히 재미는 없다..평점 조정</td>\n",
       "      <td>0</td>\n",
       "    </tr>\n",
       "    <tr>\n",
       "      <th>4</th>\n",
       "      <td>6483659</td>\n",
       "      <td>사이몬페그의 익살스런 연기가 돋보였던 영화!스파이더맨에서 늙어보이기만 했던 커스틴 ...</td>\n",
       "      <td>1</td>\n",
       "    </tr>\n",
       "  </tbody>\n",
       "</table>\n",
       "</div>"
      ],
      "text/plain": [
       "         id                                           document  label\n",
       "0   9976970                                아 더빙.. 진짜 짜증나네요 목소리      0\n",
       "1   3819312                  흠...포스터보고 초딩영화줄....오버연기조차 가볍지 않구나      1\n",
       "2  10265843                                  너무재밓었다그래서보는것을추천한다      0\n",
       "3   9045019                      교도소 이야기구먼 ..솔직히 재미는 없다..평점 조정      0\n",
       "4   6483659  사이몬페그의 익살스런 연기가 돋보였던 영화!스파이더맨에서 늙어보이기만 했던 커스틴 ...      1"
      ]
     },
     "execution_count": 9,
     "metadata": {},
     "output_type": "execute_result"
    }
   ],
   "source": [
    "# 데이터를 읽어봅시다. \n",
    "train_data = pd.read_table('~/aiffel/sentiment_classification/data/ratings_train.txt')\n",
    "test_data = pd.read_table('~/aiffel/sentiment_classification/data/ratings_test.txt')\n",
    "\n",
    "train_data.head()"
   ]
  },
  {
   "cell_type": "markdown",
   "id": "99f1e34b",
   "metadata": {},
   "source": [
    "### 2) 데이터로더 구성  \n",
    "  \n",
    "전혀 가공되지 않은 nsmc 데이터셋 텍스트 파일을 읽어 data_loader 생성  \n",
    "  \n",
    "**data_loader 안에서 수행해야할 사항**  \n",
    "-데이터의 중복 제거  \n",
    "-NaN 결측치 제거  \n",
    "-한국어 토크나이저로 토큰화  \n",
    "-불용어(Stopwords) 제거  \n",
    "-사전 word_to_index 구성  \n",
    "-텍스트 스트링을 사전 인덱스 스트링으로 변환  \n",
    "-X_train, y_train, X_test, y_test, word_to_index 리턴  "
   ]
  },
  {
   "cell_type": "code",
   "execution_count": 10,
   "id": "f129ea97",
   "metadata": {},
   "outputs": [],
   "source": [
    "tokenizer = Mecab()\n",
    "stopwords = ['의','가','이','은','들','는','좀','잘','걍','과','도','를','으로','자','에','와','한','하다']\n",
    "\n",
    "def load_data(train_data, test_data, num_words=10000):\n",
    "    train_data.drop_duplicates(subset=['document'], inplace=True)\n",
    "    train_data = train_data.dropna(how = 'any') \n",
    "    test_data.drop_duplicates(subset=['document'], inplace=True)\n",
    "    test_data = test_data.dropna(how = 'any') \n",
    "    \n",
    "    X_train = []\n",
    "    for sentence in train_data['document']:\n",
    "        temp_X = tokenizer.morphs(sentence) # 토큰화\n",
    "        temp_X = [word for word in temp_X if not word in stopwords] # 불용어 제거\n",
    "        X_train.append(temp_X)\n",
    "\n",
    "    X_test = []\n",
    "    for sentence in test_data['document']:\n",
    "        temp_X = tokenizer.morphs(sentence) # 토큰화\n",
    "        temp_X = [word for word in temp_X if not word in stopwords] # 불용어 제거\n",
    "        X_test.append(temp_X)\n",
    "    \n",
    "    words = np.concatenate(X_train).tolist()\n",
    "    counter = Counter(words)\n",
    "    counter = counter.most_common(10000-4)\n",
    "    vocab = ['<PAD>', '<BOS>', '<UNK>', '<UNUSED>'] + [key for key, _ in counter]  #인덱스 정의\n",
    "    word_to_index = {word:index for index, word in enumerate(vocab)}\n",
    "        \n",
    "    def wordlist_to_indexlist(wordlist):\n",
    "        return [word_to_index[word] if word in word_to_index else word_to_index['<UNK>'] for word in wordlist]  #unknown으로 반환\n",
    "        \n",
    "    X_train = list(map(wordlist_to_indexlist, X_train))\n",
    "    X_test = list(map(wordlist_to_indexlist, X_test))\n",
    "        \n",
    "    return X_train, np.array(list(train_data['label'])), X_test, np.array(list(test_data['label'])), word_to_index\n",
    "    \n",
    "X_train, y_train, X_test, y_test, word_to_index = load_data(train_data, test_data)"
   ]
  },
  {
   "cell_type": "code",
   "execution_count": 11,
   "id": "ab8bf3e5",
   "metadata": {},
   "outputs": [],
   "source": [
    "index_to_word = {index:word for word, index in word_to_index.items()}"
   ]
  },
  {
   "cell_type": "code",
   "execution_count": 12,
   "id": "845cc8c6",
   "metadata": {},
   "outputs": [],
   "source": [
    "# 문장 1개를 활용할 딕셔너리와 함께 주면, 단어 인덱스 리스트 벡터로 변환해 주는 함수입니다. \n",
    "# 단, 모든 문장은 <BOS>로 시작하는 것으로 합니다. \n",
    "def get_encoded_sentence(sentence, word_to_index):\n",
    "    return [word_to_index['<BOS>']]+[word_to_index[word] if word in word_to_index else word_to_index['<UNK>'] for word in sentence.split()]\n",
    "\n",
    "# 여러 개의 문장 리스트를 한꺼번에 단어 인덱스 리스트 벡터로 encode해 주는 함수입니다. \n",
    "def get_encoded_sentences(sentences, word_to_index):\n",
    "    return [get_encoded_sentence(sentence, word_to_index) for sentence in sentences]\n",
    "\n",
    "# 숫자 벡터로 encode된 문장을 원래대로 decode하는 함수입니다. \n",
    "def get_decoded_sentence(encoded_sentence, index_to_word):\n",
    "    return ' '.join(index_to_word[index] if index in index_to_word else '<UNK>' for index in encoded_sentence[1:])  #[1:]를 통해 <BOS>를 제외\n",
    "\n",
    "# 여러 개의 숫자 벡터로 encode된 문장을 한꺼번에 원래대로 decode하는 함수입니다. \n",
    "def get_decoded_sentences(encoded_sentences, index_to_word):\n",
    "    return [get_decoded_sentence(encoded_sentence, index_to_word) for encoded_sentence in encoded_sentences]"
   ]
  },
  {
   "cell_type": "markdown",
   "id": "291379b5",
   "metadata": {},
   "source": [
    "### 3) 모델 구성을 위한 데이터 분석 및 가공\n",
    "-데이터셋 내 문장 길이 분포  \n",
    "-적절한 최대 문장 길이 지정  \n",
    "-keras.preprocessing.sequence.pad_sequences 을 활용한 패딩 추가"
   ]
  },
  {
   "cell_type": "code",
   "execution_count": 13,
   "id": "5c05488b",
   "metadata": {},
   "outputs": [
    {
     "name": "stdout",
     "output_type": "stream",
     "text": [
      "문장길이 평균 :  15.96940191154864\n",
      "문장길이 최대 :  116\n",
      "문장길이 표준편차 :  12.843571191092\n",
      "pad_sequences maxlen :  41\n",
      "전체 문장의 0.9342988343341575%가 maxlen 설정값 이내에 포함됩니다. \n"
     ]
    }
   ],
   "source": [
    "total_data_text = list(X_train) + list(X_test)\n",
    "\n",
    "# 텍스트데이터 문장길이의 리스트를 생성한 후\n",
    "num_tokens = [len(tokens) for tokens in total_data_text]\n",
    "num_tokens = np.array(num_tokens)\n",
    "\n",
    "# 문장길이의 평균값, 최대값, 표준편차를 계산해 본다. \n",
    "print('문장길이 평균 : ', np.mean(num_tokens))\n",
    "print('문장길이 최대 : ', np.max(num_tokens))\n",
    "print('문장길이 표준편차 : ', np.std(num_tokens))\n",
    "\n",
    "\n",
    "# 예를들어, 최대 길이를 (평균 + 2*표준편차)로 한다면,  \n",
    "max_tokens = np.mean(num_tokens) + 2 * np.std(num_tokens)\n",
    "maxlen = int(max_tokens) # 최대 길이\n",
    "print('pad_sequences maxlen : ', maxlen)\n",
    "print('전체 문장의 {}%가 maxlen 설정값 이내에 포함됩니다. '.format(np.sum(num_tokens < max_tokens) / len(num_tokens)))"
   ]
  },
  {
   "cell_type": "code",
   "execution_count": 14,
   "id": "fc2d24df",
   "metadata": {},
   "outputs": [],
   "source": [
    "#keras.preprocessing.sequence.pad_sequences 을 활용한 패딩 추가 (pre)\n",
    "X_train = keras.preprocessing.sequence.pad_sequences(X_train,\n",
    "                                                        value=word_to_index[\"<PAD>\"],\n",
    "                                                        padding='pre',\n",
    "                                                        maxlen=maxlen)\n",
    "\n",
    "X_test = keras.preprocessing.sequence.pad_sequences(X_test,\n",
    "                                                       value=word_to_index[\"<PAD>\"],\n",
    "                                                       padding='pre',\n",
    "                                                       maxlen=maxlen)"
   ]
  },
  {
   "cell_type": "markdown",
   "id": "27798425",
   "metadata": {},
   "source": [
    "### 4) 모델 구성 및 validation set 구성  \n",
    "  \n",
    "  \n",
    "# 1. RNN모델  "
   ]
  },
  {
   "cell_type": "code",
   "execution_count": 15,
   "id": "7c045954",
   "metadata": {
    "scrolled": true
   },
   "outputs": [
    {
     "name": "stdout",
     "output_type": "stream",
     "text": [
      "Model: \"sequential\"\n",
      "_________________________________________________________________\n",
      "Layer (type)                 Output Shape              Param #   \n",
      "=================================================================\n",
      "embedding (Embedding)        (None, None, 16)          160000    \n",
      "_________________________________________________________________\n",
      "lstm (LSTM)                  (None, 8)                 800       \n",
      "_________________________________________________________________\n",
      "dense (Dense)                (None, 8)                 72        \n",
      "_________________________________________________________________\n",
      "dense_1 (Dense)              (None, 1)                 9         \n",
      "=================================================================\n",
      "Total params: 160,881\n",
      "Trainable params: 160,881\n",
      "Non-trainable params: 0\n",
      "_________________________________________________________________\n"
     ]
    }
   ],
   "source": [
    "vocab_size = 10000    # 어휘 사전의 크기입니다(10,000개의 단어)\n",
    "word_vector_dim = 16  # 워드 벡터의 차원 수 (변경 가능한 하이퍼파라미터)\n",
    "\n",
    "# model 설계\n",
    "model = keras.Sequential()\n",
    "model.add(keras.layers.Embedding(vocab_size, word_vector_dim, input_shape=(None,)))\n",
    "model.add(keras.layers.LSTM(8))   # 가장 널리 쓰이는 RNN인 LSTM 레이어를 사용하였습니다. 이때 LSTM state 벡터의 차원수는 8로 하였습니다. (변경 가능)\n",
    "model.add(keras.layers.Dense(8, activation='relu'))\n",
    "model.add(keras.layers.Dense(1, activation='sigmoid'))  # 최종 출력은 긍정/부정을 나타내는 1dim 입니다.\n",
    "\n",
    "model.summary()"
   ]
  },
  {
   "cell_type": "markdown",
   "id": "2b79b089",
   "metadata": {},
   "source": [
    "**validation set 구성**  \n",
    "훈련용 데이터셋 25000건 중 10000건을 분리하여 검증셋(validation set)으로 사용"
   ]
  },
  {
   "cell_type": "code",
   "execution_count": 16,
   "id": "beb96210",
   "metadata": {
    "scrolled": true
   },
   "outputs": [
    {
     "name": "stdout",
     "output_type": "stream",
     "text": [
      "(136182, 41)\n",
      "(136182,)\n"
     ]
    }
   ],
   "source": [
    "# validation set 10000건 분리\n",
    "X_val = X_train[:10000]   \n",
    "y_val = y_train[:10000]\n",
    "\n",
    "# validation set을 제외한 나머지 15000건\n",
    "partial_X_train = X_train[10000:]  \n",
    "partial_y_train = y_train[10000:]\n",
    "\n",
    "print(partial_X_train.shape)\n",
    "print(partial_y_train.shape)"
   ]
  },
  {
   "cell_type": "markdown",
   "id": "ffcf4036",
   "metadata": {},
   "source": [
    "### 5) 모델 훈련 개시\n",
    "**RNN 모델학습 시작**"
   ]
  },
  {
   "cell_type": "code",
   "execution_count": 17,
   "id": "0d9a3155",
   "metadata": {
    "scrolled": true
   },
   "outputs": [
    {
     "name": "stdout",
     "output_type": "stream",
     "text": [
      "Epoch 1/20\n",
      "266/266 [==============================] - 5s 7ms/step - loss: 0.4870 - accuracy: 0.7864 - val_loss: 0.3591 - val_accuracy: 0.8460\n",
      "Epoch 2/20\n",
      "266/266 [==============================] - 1s 5ms/step - loss: 0.3426 - accuracy: 0.8549 - val_loss: 0.3462 - val_accuracy: 0.8507\n",
      "Epoch 3/20\n",
      "266/266 [==============================] - 1s 5ms/step - loss: 0.3219 - accuracy: 0.8659 - val_loss: 0.3441 - val_accuracy: 0.8504\n",
      "Epoch 4/20\n",
      "266/266 [==============================] - 1s 5ms/step - loss: 0.3115 - accuracy: 0.8701 - val_loss: 0.3425 - val_accuracy: 0.8536\n",
      "Epoch 5/20\n",
      "266/266 [==============================] - 1s 5ms/step - loss: 0.3038 - accuracy: 0.8738 - val_loss: 0.3467 - val_accuracy: 0.8491\n",
      "Epoch 6/20\n",
      "266/266 [==============================] - 1s 5ms/step - loss: 0.2959 - accuracy: 0.8776 - val_loss: 0.3419 - val_accuracy: 0.8533\n",
      "Epoch 7/20\n",
      "266/266 [==============================] - 1s 5ms/step - loss: 0.2875 - accuracy: 0.8821 - val_loss: 0.3452 - val_accuracy: 0.8539\n",
      "Epoch 8/20\n",
      "266/266 [==============================] - 1s 5ms/step - loss: 0.2791 - accuracy: 0.8856 - val_loss: 0.3458 - val_accuracy: 0.8548\n",
      "Epoch 9/20\n",
      "266/266 [==============================] - 1s 5ms/step - loss: 0.2720 - accuracy: 0.8889 - val_loss: 0.3504 - val_accuracy: 0.8534\n",
      "Epoch 10/20\n",
      "266/266 [==============================] - 1s 5ms/step - loss: 0.2636 - accuracy: 0.8933 - val_loss: 0.3524 - val_accuracy: 0.8513\n",
      "Epoch 11/20\n",
      "266/266 [==============================] - 1s 5ms/step - loss: 0.2558 - accuracy: 0.8966 - val_loss: 0.3555 - val_accuracy: 0.8542\n",
      "Epoch 12/20\n",
      "266/266 [==============================] - 1s 5ms/step - loss: 0.2487 - accuracy: 0.8994 - val_loss: 0.3633 - val_accuracy: 0.8513\n",
      "Epoch 13/20\n",
      "266/266 [==============================] - 1s 5ms/step - loss: 0.2421 - accuracy: 0.9026 - val_loss: 0.3676 - val_accuracy: 0.8510\n",
      "Epoch 14/20\n",
      "266/266 [==============================] - 1s 5ms/step - loss: 0.2348 - accuracy: 0.9058 - val_loss: 0.3713 - val_accuracy: 0.8508\n",
      "Epoch 15/20\n",
      "266/266 [==============================] - 1s 5ms/step - loss: 0.2283 - accuracy: 0.9083 - val_loss: 0.3733 - val_accuracy: 0.8511\n",
      "Epoch 16/20\n",
      "266/266 [==============================] - 1s 5ms/step - loss: 0.2213 - accuracy: 0.9121 - val_loss: 0.3798 - val_accuracy: 0.8541\n",
      "Epoch 17/20\n",
      "266/266 [==============================] - 1s 5ms/step - loss: 0.2148 - accuracy: 0.9151 - val_loss: 0.3876 - val_accuracy: 0.8516\n",
      "Epoch 18/20\n",
      "266/266 [==============================] - 1s 5ms/step - loss: 0.2088 - accuracy: 0.9178 - val_loss: 0.3950 - val_accuracy: 0.8491\n",
      "Epoch 19/20\n",
      "266/266 [==============================] - 1s 5ms/step - loss: 0.2032 - accuracy: 0.9205 - val_loss: 0.3962 - val_accuracy: 0.8527\n",
      "Epoch 20/20\n",
      "266/266 [==============================] - 1s 5ms/step - loss: 0.1982 - accuracy: 0.9231 - val_loss: 0.4050 - val_accuracy: 0.8491\n"
     ]
    }
   ],
   "source": [
    "model.compile(optimizer='adam',\n",
    "              loss='binary_crossentropy',\n",
    "              metrics=['accuracy'])\n",
    "              \n",
    "epochs=20  # 몇 epoch를 훈련하면 좋을지 결과를 보면서 바꾸어 봅시다. \n",
    "\n",
    "history = model.fit(partial_X_train,\n",
    "                    partial_y_train,\n",
    "                    epochs=epochs,\n",
    "                    batch_size=512,\n",
    "                    validation_data=(X_val, y_val),\n",
    "                    verbose=1)"
   ]
  },
  {
   "cell_type": "markdown",
   "id": "5ed84c4c",
   "metadata": {},
   "source": [
    "**RNN 모델 평가**"
   ]
  },
  {
   "cell_type": "code",
   "execution_count": 18,
   "id": "3db36da0",
   "metadata": {},
   "outputs": [
    {
     "name": "stdout",
     "output_type": "stream",
     "text": [
      "1537/1537 - 3s - loss: 0.4142 - accuracy: 0.8449\n",
      "[0.41421130299568176, 0.8449254631996155]\n"
     ]
    }
   ],
   "source": [
    "#학습이 끝난 모델을 테스트셋으로 평가\n",
    "results = model.evaluate(X_test,  y_test, verbose=2)\n",
    "\n",
    "print(results)"
   ]
  },
  {
   "cell_type": "markdown",
   "id": "60b5c0dd",
   "metadata": {},
   "source": [
    "### 6) Loss, Accuracy 그래프 시각화"
   ]
  },
  {
   "cell_type": "code",
   "execution_count": 19,
   "id": "a6bc31da",
   "metadata": {},
   "outputs": [
    {
     "name": "stdout",
     "output_type": "stream",
     "text": [
      "dict_keys(['loss', 'accuracy', 'val_loss', 'val_accuracy'])\n"
     ]
    }
   ],
   "source": [
    "history_dict = history.history\n",
    "print(history_dict.keys()) # epoch에 따른 그래프를 그려볼 수 있는 항목들"
   ]
  },
  {
   "cell_type": "code",
   "execution_count": 20,
   "id": "a93cd91d",
   "metadata": {},
   "outputs": [
    {
     "data": {
      "image/png": "[encoded data removed]",
      "text/plain": [
       "<Figure size 432x288 with 1 Axes>"
      ]
     },
     "metadata": {
      "needs_background": "light"
     },
     "output_type": "display_data"
    }
   ],
   "source": [
    "acc = history_dict['accuracy']\n",
    "val_acc = history_dict['val_accuracy']\n",
    "loss = history_dict['loss']\n",
    "val_loss = history_dict['val_loss']\n",
    "\n",
    "epochs = range(1, len(acc) + 1)\n",
    "\n",
    "# \"bo\"는 \"파란색 점\"입니다\n",
    "plt.plot(epochs, loss, 'bo', label='Training loss')\n",
    "# b는 \"파란 실선\"입니다\n",
    "plt.plot(epochs, val_loss, 'b', label='Validation loss')\n",
    "plt.title('Training and validation loss')\n",
    "plt.xlabel('Epochs')\n",
    "plt.ylabel('Loss')\n",
    "plt.legend()\n",
    "\n",
    "plt.show()"
   ]
  },
  {
   "cell_type": "code",
   "execution_count": 21,
   "id": "da8d34bf",
   "metadata": {
    "scrolled": true
   },
   "outputs": [
    {
     "data": {
      "image/png": "[encoded data removed]",
      "text/plain": [
       "<Figure size 432x288 with 1 Axes>"
      ]
     },
     "metadata": {
      "needs_background": "light"
     },
     "output_type": "display_data"
    }
   ],
   "source": [
    "plt.clf()   # 그림을 초기화합니다\n",
    "\n",
    "plt.plot(epochs, acc, 'bo', label='Training acc')\n",
    "plt.plot(epochs, val_acc, 'b', label='Validation acc')\n",
    "plt.title('Training and validation accuracy')\n",
    "plt.xlabel('Epochs')\n",
    "plt.ylabel('Accuracy')\n",
    "plt.legend()\n",
    "\n",
    "plt.show()"
   ]
  },
  {
   "cell_type": "markdown",
   "id": "12fc7cc3",
   "metadata": {},
   "source": [
    "### 7) 학습된 Embedding 레이어 분석"
   ]
  },
  {
   "cell_type": "code",
   "execution_count": 22,
   "id": "461b46ea",
   "metadata": {},
   "outputs": [
    {
     "name": "stdout",
     "output_type": "stream",
     "text": [
      "(10000, 16)\n"
     ]
    }
   ],
   "source": [
    "embedding_layer = model.layers[0]\n",
    "weights = embedding_layer.get_weights()[0]\n",
    "print(weights.shape)    # shape: (vocab_size, embedding_dim)"
   ]
  },
  {
   "cell_type": "code",
   "execution_count": 25,
   "id": "4857ee7c",
   "metadata": {},
   "outputs": [],
   "source": [
    "# 학습한 Embedding 파라미터를 파일에 써서 저장합니다. \n",
    "word2vec_file_path = os.getenv('HOME')+'/aiffel/sentiment_classification/data/word2vec_rnn.txt'\n",
    "f = open(word2vec_file_path, 'w')\n",
    "f.write('{} {}\\n'.format(vocab_size-4, word_vector_dim))  # 몇개의 벡터를 얼마 사이즈로 기재할지 타이틀을 씁니다.\n",
    "\n",
    "# 단어 개수(에서 특수문자 4개는 제외하고)만큼의 워드 벡터를 파일에 기록합니다. \n",
    "vectors = model.get_weights()[0]\n",
    "for i in range(4,vocab_size):\n",
    "    f.write('{} {}\\n'.format(index_to_word[i], ' '.join(map(str, list(vectors[i, :])))))\n",
    "f.close()"
   ]
  },
  {
   "cell_type": "code",
   "execution_count": 26,
   "id": "563dba5d",
   "metadata": {},
   "outputs": [],
   "source": [
    "word_vectors = Word2VecKeyedVectors.load_word2vec_format(word2vec_file_path, binary=False)"
   ]
  },
  {
   "cell_type": "code",
   "execution_count": 27,
   "id": "e0127735",
   "metadata": {},
   "outputs": [
    {
     "data": {
      "text/plain": [
       "array([-0.00069379,  0.22808583, -0.16926862,  0.08037532, -0.11409477,\n",
       "        0.09857723,  0.12837653, -0.04662998,  0.19966602, -0.10589195,\n",
       "        0.0514828 , -0.0787826 ,  0.01858436, -0.2778194 ,  0.07645588,\n",
       "       -0.14497097], dtype=float32)"
      ]
     },
     "execution_count": 27,
     "metadata": {},
     "output_type": "execute_result"
    }
   ],
   "source": [
    "from gensim.models.keyedvectors import Word2VecKeyedVectors\n",
    "\n",
    "word_vectors = Word2VecKeyedVectors.load_word2vec_format(word2vec_file_path, binary=False)\n",
    "vector = word_vectors['재미']\n",
    "vector"
   ]
  },
  {
   "cell_type": "code",
   "execution_count": 28,
   "id": "feeadda5",
   "metadata": {},
   "outputs": [
    {
     "data": {
      "text/plain": [
       "[('거의', 0.8610961437225342),\n",
       " ('넘', 0.8603217005729675),\n",
       " ('특색', 0.8402466773986816),\n",
       " ('신비', 0.835227370262146),\n",
       " ('공감', 0.821881115436554),\n",
       " ('너무', 0.8206154108047485),\n",
       " ('몰입', 0.81717848777771),\n",
       " ('모두', 0.811876654624939),\n",
       " ('듯이', 0.8064684271812439),\n",
       " ('완전', 0.7968534231185913)]"
      ]
     },
     "execution_count": 28,
     "metadata": {},
     "output_type": "execute_result"
    }
   ],
   "source": [
    "word_vectors.similar_by_word(\"재미\")"
   ]
  },
  {
   "cell_type": "markdown",
   "id": "a74538b7",
   "metadata": {},
   "source": [
    "# 2. 1-D Convolution Neural Network(1-D CNN)모델"
   ]
  },
  {
   "cell_type": "code",
   "execution_count": 29,
   "id": "63546ab0",
   "metadata": {
    "scrolled": false
   },
   "outputs": [
    {
     "name": "stdout",
     "output_type": "stream",
     "text": [
      "Model: \"sequential_1\"\n",
      "_________________________________________________________________\n",
      "Layer (type)                 Output Shape              Param #   \n",
      "=================================================================\n",
      "embedding_1 (Embedding)      (None, None, 16)          160000    \n",
      "_________________________________________________________________\n",
      "conv1d (Conv1D)              (None, None, 16)          1808      \n",
      "_________________________________________________________________\n",
      "max_pooling1d (MaxPooling1D) (None, None, 16)          0         \n",
      "_________________________________________________________________\n",
      "conv1d_1 (Conv1D)            (None, None, 16)          1808      \n",
      "_________________________________________________________________\n",
      "global_max_pooling1d (Global (None, 16)                0         \n",
      "_________________________________________________________________\n",
      "dense_2 (Dense)              (None, 8)                 136       \n",
      "_________________________________________________________________\n",
      "dense_3 (Dense)              (None, 1)                 9         \n",
      "=================================================================\n",
      "Total params: 163,761\n",
      "Trainable params: 163,761\n",
      "Non-trainable params: 0\n",
      "_________________________________________________________________\n"
     ]
    }
   ],
   "source": [
    "vocab_size = 10000    # 어휘 사전의 크기입니다(10,000개의 단어)\n",
    "word_vector_dim = 16  # 워드 벡터의 차원 수 (변경 가능한 하이퍼파라미터)\n",
    "\n",
    "# model 설계\n",
    "model = keras.Sequential()\n",
    "model.add(keras.layers.Embedding(vocab_size, word_vector_dim, input_shape=(None,)))\n",
    "model.add(keras.layers.Conv1D(16, 7, activation='relu'))\n",
    "model.add(keras.layers.MaxPooling1D(5))\n",
    "model.add(keras.layers.Conv1D(16, 7, activation='relu'))\n",
    "model.add(keras.layers.GlobalMaxPooling1D())\n",
    "model.add(keras.layers.Dense(8, activation='relu'))\n",
    "model.add(keras.layers.Dense(1, activation='sigmoid'))  # 최종 출력은 긍정/부정을 나타내는 1dim 입니다.\n",
    "\n",
    "model.summary()"
   ]
  },
  {
   "cell_type": "markdown",
   "id": "7a6168b7",
   "metadata": {},
   "source": [
    "**validation set 구성**  \n",
    "훈련용 데이터셋 25000건 중 10000건을 분리하여 검증셋(validation set)으로 사용"
   ]
  },
  {
   "cell_type": "code",
   "execution_count": 30,
   "id": "4fef7716",
   "metadata": {
    "scrolled": true
   },
   "outputs": [
    {
     "name": "stdout",
     "output_type": "stream",
     "text": [
      "(136182, 41)\n",
      "(136182,)\n"
     ]
    }
   ],
   "source": [
    "# validation set 10000건 분리\n",
    "X_val = X_train[:10000]   \n",
    "y_val = y_train[:10000]\n",
    "\n",
    "# validation set을 제외한 나머지 15000건\n",
    "partial_X_train = X_train[10000:]  \n",
    "partial_y_train = y_train[10000:]\n",
    "\n",
    "print(partial_X_train.shape)\n",
    "print(partial_y_train.shape)"
   ]
  },
  {
   "cell_type": "markdown",
   "id": "ba3d520a",
   "metadata": {},
   "source": [
    "### 5) 모델 훈련 개시\n",
    "**CNN 모델학습 시작**"
   ]
  },
  {
   "cell_type": "code",
   "execution_count": 31,
   "id": "48df2f85",
   "metadata": {},
   "outputs": [
    {
     "name": "stdout",
     "output_type": "stream",
     "text": [
      "Epoch 1/20\n",
      "266/266 [==============================] - 3s 5ms/step - loss: 0.4780 - accuracy: 0.7634 - val_loss: 0.3433 - val_accuracy: 0.8513\n",
      "Epoch 2/20\n",
      "266/266 [==============================] - 1s 4ms/step - loss: 0.3234 - accuracy: 0.8623 - val_loss: 0.3322 - val_accuracy: 0.8567\n",
      "Epoch 3/20\n",
      "266/266 [==============================] - 1s 4ms/step - loss: 0.2903 - accuracy: 0.8789 - val_loss: 0.3301 - val_accuracy: 0.8595\n",
      "Epoch 4/20\n",
      "266/266 [==============================] - 1s 4ms/step - loss: 0.2626 - accuracy: 0.8933 - val_loss: 0.3391 - val_accuracy: 0.8555\n",
      "Epoch 5/20\n",
      "266/266 [==============================] - 1s 4ms/step - loss: 0.2330 - accuracy: 0.9080 - val_loss: 0.3529 - val_accuracy: 0.8548\n",
      "Epoch 6/20\n",
      "266/266 [==============================] - 1s 4ms/step - loss: 0.2022 - accuracy: 0.9230 - val_loss: 0.3753 - val_accuracy: 0.8519\n",
      "Epoch 7/20\n",
      "266/266 [==============================] - 1s 4ms/step - loss: 0.1740 - accuracy: 0.9356 - val_loss: 0.4065 - val_accuracy: 0.8480\n",
      "Epoch 8/20\n",
      "266/266 [==============================] - 1s 5ms/step - loss: 0.1477 - accuracy: 0.9473 - val_loss: 0.4492 - val_accuracy: 0.8420\n",
      "Epoch 9/20\n",
      "266/266 [==============================] - 1s 4ms/step - loss: 0.1251 - accuracy: 0.9572 - val_loss: 0.5068 - val_accuracy: 0.8372\n",
      "Epoch 10/20\n",
      "266/266 [==============================] - 1s 4ms/step - loss: 0.1067 - accuracy: 0.9646 - val_loss: 0.5447 - val_accuracy: 0.8312\n",
      "Epoch 11/20\n",
      "266/266 [==============================] - 1s 4ms/step - loss: 0.0927 - accuracy: 0.9702 - val_loss: 0.6248 - val_accuracy: 0.8302\n",
      "Epoch 12/20\n",
      "266/266 [==============================] - 1s 4ms/step - loss: 0.0818 - accuracy: 0.9740 - val_loss: 0.6493 - val_accuracy: 0.8285\n",
      "Epoch 13/20\n",
      "266/266 [==============================] - 1s 4ms/step - loss: 0.0726 - accuracy: 0.9776 - val_loss: 0.6990 - val_accuracy: 0.8276\n",
      "Epoch 14/20\n",
      "266/266 [==============================] - 1s 4ms/step - loss: 0.0656 - accuracy: 0.9798 - val_loss: 0.7585 - val_accuracy: 0.8239\n",
      "Epoch 15/20\n",
      "266/266 [==============================] - 1s 4ms/step - loss: 0.0584 - accuracy: 0.9826 - val_loss: 0.7806 - val_accuracy: 0.8230\n",
      "Epoch 16/20\n",
      "266/266 [==============================] - 1s 4ms/step - loss: 0.0544 - accuracy: 0.9839 - val_loss: 0.9031 - val_accuracy: 0.8217\n",
      "Epoch 17/20\n",
      "266/266 [==============================] - 1s 5ms/step - loss: 0.0513 - accuracy: 0.9849 - val_loss: 0.9131 - val_accuracy: 0.8218\n",
      "Epoch 18/20\n",
      "266/266 [==============================] - 1s 4ms/step - loss: 0.0480 - accuracy: 0.9863 - val_loss: 0.9904 - val_accuracy: 0.8199\n",
      "Epoch 19/20\n",
      "266/266 [==============================] - 1s 4ms/step - loss: 0.0459 - accuracy: 0.9865 - val_loss: 1.0341 - val_accuracy: 0.8184\n",
      "Epoch 20/20\n",
      "266/266 [==============================] - 1s 4ms/step - loss: 0.0446 - accuracy: 0.9868 - val_loss: 1.1030 - val_accuracy: 0.8193\n"
     ]
    }
   ],
   "source": [
    "model.compile(optimizer='adam',\n",
    "              loss='binary_crossentropy',\n",
    "              metrics=['accuracy'])\n",
    "              \n",
    "epochs=20  # 몇 epoch를 훈련하면 좋을지 결과를 보면서 바꾸어 봅시다. \n",
    "\n",
    "history = model.fit(partial_X_train,\n",
    "                    partial_y_train,\n",
    "                    epochs=epochs,\n",
    "                    batch_size=512,\n",
    "                    validation_data=(X_val, y_val),\n",
    "                    verbose=1)"
   ]
  },
  {
   "cell_type": "markdown",
   "id": "6b776ca2",
   "metadata": {},
   "source": [
    "**CNN 모델 평가**"
   ]
  },
  {
   "cell_type": "code",
   "execution_count": 32,
   "id": "caf92910",
   "metadata": {},
   "outputs": [
    {
     "name": "stdout",
     "output_type": "stream",
     "text": [
      "1537/1537 - 2s - loss: 1.0877 - accuracy: 0.8165\n",
      "[1.0876952409744263, 0.8164859414100647]\n"
     ]
    }
   ],
   "source": [
    "#학습이 끝난 모델을 테스트셋으로 평가\n",
    "results = model.evaluate(X_test,  y_test, verbose=2)\n",
    "\n",
    "print(results)"
   ]
  },
  {
   "cell_type": "markdown",
   "id": "761ff3a2",
   "metadata": {},
   "source": [
    "### 6) Loss, Accuracy 그래프 시각화"
   ]
  },
  {
   "cell_type": "code",
   "execution_count": 33,
   "id": "49be69e1",
   "metadata": {},
   "outputs": [
    {
     "name": "stdout",
     "output_type": "stream",
     "text": [
      "dict_keys(['loss', 'accuracy', 'val_loss', 'val_accuracy'])\n"
     ]
    }
   ],
   "source": [
    "history_dict = history.history\n",
    "print(history_dict.keys()) # epoch에 따른 그래프를 그려볼 수 있는 항목들"
   ]
  },
  {
   "cell_type": "code",
   "execution_count": 34,
   "id": "875df324",
   "metadata": {},
   "outputs": [
    {
     "data": {
      "image/png": "[encoded data removed]",
      "text/plain": [
       "<Figure size 432x288 with 1 Axes>"
      ]
     },
     "metadata": {
      "needs_background": "light"
     },
     "output_type": "display_data"
    }
   ],
   "source": [
    "acc = history_dict['accuracy']\n",
    "val_acc = history_dict['val_accuracy']\n",
    "loss = history_dict['loss']\n",
    "val_loss = history_dict['val_loss']\n",
    "\n",
    "epochs = range(1, len(acc) + 1)\n",
    "\n",
    "# \"bo\"는 \"파란색 점\"입니다\n",
    "plt.plot(epochs, loss, 'bo', label='Training loss')\n",
    "# b는 \"파란 실선\"입니다\n",
    "plt.plot(epochs, val_loss, 'b', label='Validation loss')\n",
    "plt.title('Training and validation loss')\n",
    "plt.xlabel('Epochs')\n",
    "plt.ylabel('Loss')\n",
    "plt.legend()\n",
    "\n",
    "plt.show()"
   ]
  },
  {
   "cell_type": "code",
   "execution_count": 35,
   "id": "120d40a4",
   "metadata": {
    "scrolled": false
   },
   "outputs": [
    {
     "data": {
      "image/png": "[encoded data removed]",
      "text/plain": [
       "<Figure size 432x288 with 1 Axes>"
      ]
     },
     "metadata": {
      "needs_background": "light"
     },
     "output_type": "display_data"
    }
   ],
   "source": [
    "plt.clf()   # 그림을 초기화합니다\n",
    "\n",
    "plt.plot(epochs, acc, 'bo', label='Training acc')\n",
    "plt.plot(epochs, val_acc, 'b', label='Validation acc')\n",
    "plt.title('Training and validation accuracy')\n",
    "plt.xlabel('Epochs')\n",
    "plt.ylabel('Accuracy')\n",
    "plt.legend()\n",
    "\n",
    "plt.show()"
   ]
  },
  {
   "cell_type": "markdown",
   "id": "46b03b67",
   "metadata": {},
   "source": [
    "### 7) 학습된 Embedding 레이어 분석"
   ]
  },
  {
   "cell_type": "code",
   "execution_count": 36,
   "id": "acf5295c",
   "metadata": {},
   "outputs": [
    {
     "name": "stdout",
     "output_type": "stream",
     "text": [
      "(10000, 16)\n"
     ]
    }
   ],
   "source": [
    "embedding_layer = model.layers[0]\n",
    "weights = embedding_layer.get_weights()[0]\n",
    "print(weights.shape)    # shape: (vocab_size, embedding_dim)"
   ]
  },
  {
   "cell_type": "code",
   "execution_count": 37,
   "id": "43c50563",
   "metadata": {},
   "outputs": [],
   "source": [
    "# 학습한 Embedding 파라미터를 파일에 써서 저장합니다. \n",
    "word2vec_file_path = os.getenv('HOME')+'/aiffel/sentiment_classification/data/word2vec_cnn.txt'\n",
    "f = open(word2vec_file_path, 'w')\n",
    "f.write('{} {}\\n'.format(vocab_size-4, word_vector_dim))  # 몇개의 벡터를 얼마 사이즈로 기재할지 타이틀을 씁니다.\n",
    "\n",
    "# 단어 개수(에서 특수문자 4개는 제외하고)만큼의 워드 벡터를 파일에 기록합니다. \n",
    "vectors = model.get_weights()[0]\n",
    "for i in range(4,vocab_size):\n",
    "    f.write('{} {}\\n'.format(index_to_word[i], ' '.join(map(str, list(vectors[i, :])))))\n",
    "f.close()"
   ]
  },
  {
   "cell_type": "code",
   "execution_count": 38,
   "id": "41592fa1",
   "metadata": {},
   "outputs": [],
   "source": [
    "word_vectors = Word2VecKeyedVectors.load_word2vec_format(word2vec_file_path, binary=False)"
   ]
  },
  {
   "cell_type": "code",
   "execution_count": 39,
   "id": "2c884336",
   "metadata": {},
   "outputs": [
    {
     "data": {
      "text/plain": [
       "array([-0.02888467,  0.03305136,  0.02517097, -0.0268227 ,  0.0370813 ,\n",
       "        0.05058338, -0.07904268, -0.20822127,  0.02407169, -0.12842059,\n",
       "        0.02391946,  0.10998525,  0.0985043 , -0.07083098,  0.13554148,\n",
       "       -0.01094636], dtype=float32)"
      ]
     },
     "execution_count": 39,
     "metadata": {},
     "output_type": "execute_result"
    }
   ],
   "source": [
    "from gensim.models.keyedvectors import Word2VecKeyedVectors\n",
    "\n",
    "word_vectors = Word2VecKeyedVectors.load_word2vec_format(word2vec_file_path, binary=False)\n",
    "vector = word_vectors['재미']\n",
    "vector"
   ]
  },
  {
   "cell_type": "code",
   "execution_count": 40,
   "id": "555cf43b",
   "metadata": {},
   "outputs": [
    {
     "data": {
      "text/plain": [
       "[('정무문', 0.7942072153091431),\n",
       " ('예수', 0.7695077061653137),\n",
       " ('들어도', 0.7414731979370117),\n",
       " ('냉전', 0.7213309407234192),\n",
       " ('확실히', 0.7195172309875488),\n",
       " ('콜린퍼스', 0.716174304485321),\n",
       " ('넘', 0.7133120894432068),\n",
       " ('폭풍', 0.7101947665214539),\n",
       " ('스텝업', 0.6990610361099243),\n",
       " ('클리프', 0.697115421295166)]"
      ]
     },
     "execution_count": 40,
     "metadata": {},
     "output_type": "execute_result"
    }
   ],
   "source": [
    "word_vectors.similar_by_word(\"재미\")"
   ]
  },
  {
   "cell_type": "markdown",
   "id": "b3fe7132",
   "metadata": {},
   "source": [
    "# 3. GlobalMaxPooling1D() 모델"
   ]
  },
  {
   "cell_type": "code",
   "execution_count": 41,
   "id": "688449c5",
   "metadata": {
    "scrolled": false
   },
   "outputs": [
    {
     "name": "stdout",
     "output_type": "stream",
     "text": [
      "Model: \"sequential_2\"\n",
      "_________________________________________________________________\n",
      "Layer (type)                 Output Shape              Param #   \n",
      "=================================================================\n",
      "embedding_2 (Embedding)      (None, None, 16)          160000    \n",
      "_________________________________________________________________\n",
      "global_max_pooling1d_1 (Glob (None, 16)                0         \n",
      "_________________________________________________________________\n",
      "dense_4 (Dense)              (None, 8)                 136       \n",
      "_________________________________________________________________\n",
      "dense_5 (Dense)              (None, 1)                 9         \n",
      "=================================================================\n",
      "Total params: 160,145\n",
      "Trainable params: 160,145\n",
      "Non-trainable params: 0\n",
      "_________________________________________________________________\n"
     ]
    }
   ],
   "source": [
    "vocab_size = 10000    # 어휘 사전의 크기입니다(10,000개의 단어)\n",
    "word_vector_dim = 16  # 워드 벡터의 차원 수 (변경 가능한 하이퍼파라미터)\n",
    "\n",
    "# model 설계\n",
    "model = keras.Sequential()\n",
    "model.add(keras.layers.Embedding(vocab_size, word_vector_dim, input_shape=(None,)))\n",
    "model.add(keras.layers.GlobalMaxPooling1D())\n",
    "model.add(keras.layers.Dense(8, activation='relu'))\n",
    "model.add(keras.layers.Dense(1, activation='sigmoid'))  # 최종 출력은 긍정/부정을 나타내는 1dim 입니다.\n",
    "\n",
    "model.summary()"
   ]
  },
  {
   "cell_type": "markdown",
   "id": "e1953d26",
   "metadata": {},
   "source": [
    "**validation set 구성**  \n",
    "훈련용 데이터셋 25000건 중 10000건을 분리하여 검증셋(validation set)으로 사용"
   ]
  },
  {
   "cell_type": "code",
   "execution_count": 42,
   "id": "153845be",
   "metadata": {
    "scrolled": true
   },
   "outputs": [
    {
     "name": "stdout",
     "output_type": "stream",
     "text": [
      "(136182, 41)\n",
      "(136182,)\n"
     ]
    }
   ],
   "source": [
    "# validation set 10000건 분리\n",
    "X_val = X_train[:10000]   \n",
    "y_val = y_train[:10000]\n",
    "\n",
    "# validation set을 제외한 나머지 15000건\n",
    "partial_X_train = X_train[10000:]  \n",
    "partial_y_train = y_train[10000:]\n",
    "\n",
    "print(partial_X_train.shape)\n",
    "print(partial_y_train.shape)"
   ]
  },
  {
   "cell_type": "markdown",
   "id": "65e52370",
   "metadata": {},
   "source": [
    "### 5) 모델 훈련 개시\n",
    "**GMP 학습 시작**"
   ]
  },
  {
   "cell_type": "code",
   "execution_count": 43,
   "id": "1aae16e6",
   "metadata": {},
   "outputs": [
    {
     "name": "stdout",
     "output_type": "stream",
     "text": [
      "Epoch 1/20\n",
      "266/266 [==============================] - 1s 4ms/step - loss: 0.5886 - accuracy: 0.7459 - val_loss: 0.4348 - val_accuracy: 0.8079\n",
      "Epoch 2/20\n",
      "266/266 [==============================] - 1s 3ms/step - loss: 0.3861 - accuracy: 0.8306 - val_loss: 0.3662 - val_accuracy: 0.8363\n",
      "Epoch 3/20\n",
      "266/266 [==============================] - 1s 3ms/step - loss: 0.3369 - accuracy: 0.8557 - val_loss: 0.3532 - val_accuracy: 0.8416\n",
      "Epoch 4/20\n",
      "266/266 [==============================] - 1s 3ms/step - loss: 0.3107 - accuracy: 0.8687 - val_loss: 0.3507 - val_accuracy: 0.8447\n",
      "Epoch 5/20\n",
      "266/266 [==============================] - 1s 3ms/step - loss: 0.2919 - accuracy: 0.8783 - val_loss: 0.3529 - val_accuracy: 0.8456\n",
      "Epoch 6/20\n",
      "266/266 [==============================] - 1s 3ms/step - loss: 0.2773 - accuracy: 0.8857 - val_loss: 0.3568 - val_accuracy: 0.8458\n",
      "Epoch 7/20\n",
      "266/266 [==============================] - 1s 3ms/step - loss: 0.2651 - accuracy: 0.8913 - val_loss: 0.3626 - val_accuracy: 0.8468\n",
      "Epoch 8/20\n",
      "266/266 [==============================] - 1s 3ms/step - loss: 0.2546 - accuracy: 0.8966 - val_loss: 0.3693 - val_accuracy: 0.8468\n",
      "Epoch 9/20\n",
      "266/266 [==============================] - 1s 3ms/step - loss: 0.2456 - accuracy: 0.9009 - val_loss: 0.3765 - val_accuracy: 0.8441\n",
      "Epoch 10/20\n",
      "266/266 [==============================] - 1s 3ms/step - loss: 0.2373 - accuracy: 0.9047 - val_loss: 0.3857 - val_accuracy: 0.8435\n",
      "Epoch 11/20\n",
      "266/266 [==============================] - 1s 3ms/step - loss: 0.2298 - accuracy: 0.9087 - val_loss: 0.3929 - val_accuracy: 0.8432\n",
      "Epoch 12/20\n",
      "266/266 [==============================] - 1s 3ms/step - loss: 0.2231 - accuracy: 0.9119 - val_loss: 0.4019 - val_accuracy: 0.8412\n",
      "Epoch 13/20\n",
      "266/266 [==============================] - 1s 3ms/step - loss: 0.2168 - accuracy: 0.9149 - val_loss: 0.4116 - val_accuracy: 0.8404\n",
      "Epoch 14/20\n",
      "266/266 [==============================] - 1s 3ms/step - loss: 0.2111 - accuracy: 0.9176 - val_loss: 0.4200 - val_accuracy: 0.8399\n",
      "Epoch 15/20\n",
      "266/266 [==============================] - 1s 3ms/step - loss: 0.2060 - accuracy: 0.9196 - val_loss: 0.4299 - val_accuracy: 0.8371\n",
      "Epoch 16/20\n",
      "266/266 [==============================] - 1s 3ms/step - loss: 0.2013 - accuracy: 0.9225 - val_loss: 0.4385 - val_accuracy: 0.8367\n",
      "Epoch 17/20\n",
      "266/266 [==============================] - 1s 3ms/step - loss: 0.1968 - accuracy: 0.9244 - val_loss: 0.4479 - val_accuracy: 0.8350\n",
      "Epoch 18/20\n",
      "266/266 [==============================] - 1s 3ms/step - loss: 0.1927 - accuracy: 0.9264 - val_loss: 0.4550 - val_accuracy: 0.8367\n",
      "Epoch 19/20\n",
      "266/266 [==============================] - 1s 3ms/step - loss: 0.1888 - accuracy: 0.9288 - val_loss: 0.4655 - val_accuracy: 0.8346\n",
      "Epoch 20/20\n",
      "266/266 [==============================] - 1s 3ms/step - loss: 0.1853 - accuracy: 0.9300 - val_loss: 0.4748 - val_accuracy: 0.8339\n"
     ]
    }
   ],
   "source": [
    "model.compile(optimizer='adam',\n",
    "              loss='binary_crossentropy',\n",
    "              metrics=['accuracy'])\n",
    "              \n",
    "epochs=20  # 몇 epoch를 훈련하면 좋을지 결과를 보면서 바꾸어 봅시다. \n",
    "\n",
    "history = model.fit(partial_X_train,\n",
    "                    partial_y_train,\n",
    "                    epochs=epochs,\n",
    "                    batch_size=512,\n",
    "                    validation_data=(X_val, y_val),\n",
    "                    verbose=1)"
   ]
  },
  {
   "cell_type": "markdown",
   "id": "a783b370",
   "metadata": {},
   "source": [
    "**GMP 평가**"
   ]
  },
  {
   "cell_type": "code",
   "execution_count": 44,
   "id": "4cbdd830",
   "metadata": {},
   "outputs": [
    {
     "name": "stdout",
     "output_type": "stream",
     "text": [
      "1537/1537 - 2s - loss: 0.4790 - accuracy: 0.8322\n",
      "[0.47904103994369507, 0.8321703672409058]\n"
     ]
    }
   ],
   "source": [
    "#학습이 끝난 모델을 테스트셋으로 평가\n",
    "results = model.evaluate(X_test,  y_test, verbose=2)\n",
    "\n",
    "print(results)"
   ]
  },
  {
   "cell_type": "markdown",
   "id": "feb25100",
   "metadata": {},
   "source": [
    "### 6) Loss, Accuracy 그래프 시각화"
   ]
  },
  {
   "cell_type": "code",
   "execution_count": 45,
   "id": "6f172dfa",
   "metadata": {},
   "outputs": [
    {
     "name": "stdout",
     "output_type": "stream",
     "text": [
      "dict_keys(['loss', 'accuracy', 'val_loss', 'val_accuracy'])\n"
     ]
    }
   ],
   "source": [
    "history_dict = history.history\n",
    "print(history_dict.keys()) # epoch에 따른 그래프를 그려볼 수 있는 항목들"
   ]
  },
  {
   "cell_type": "code",
   "execution_count": 46,
   "id": "4530c168",
   "metadata": {},
   "outputs": [
    {
     "data": {
      "image/png": "[encoded data removed]",
      "text/plain": [
       "<Figure size 432x288 with 1 Axes>"
      ]
     },
     "metadata": {
      "needs_background": "light"
     },
     "output_type": "display_data"
    }
   ],
   "source": [
    "acc = history_dict['accuracy']\n",
    "val_acc = history_dict['val_accuracy']\n",
    "loss = history_dict['loss']\n",
    "val_loss = history_dict['val_loss']\n",
    "\n",
    "epochs = range(1, len(acc) + 1)\n",
    "\n",
    "# \"bo\"는 \"파란색 점\"입니다\n",
    "plt.plot(epochs, loss, 'bo', label='Training loss')\n",
    "# b는 \"파란 실선\"입니다\n",
    "plt.plot(epochs, val_loss, 'b', label='Validation loss')\n",
    "plt.title('Training and validation loss')\n",
    "plt.xlabel('Epochs')\n",
    "plt.ylabel('Loss')\n",
    "plt.legend()\n",
    "\n",
    "plt.show()"
   ]
  },
  {
   "cell_type": "code",
   "execution_count": 47,
   "id": "7c7dfaa9",
   "metadata": {
    "scrolled": false
   },
   "outputs": [
    {
     "data": {
      "image/png": "[encoded data removed]",
      "text/plain": [
       "<Figure size 432x288 with 1 Axes>"
      ]
     },
     "metadata": {
      "needs_background": "light"
     },
     "output_type": "display_data"
    }
   ],
   "source": [
    "plt.clf()   # 그림을 초기화합니다\n",
    "\n",
    "plt.plot(epochs, acc, 'bo', label='Training acc')\n",
    "plt.plot(epochs, val_acc, 'b', label='Validation acc')\n",
    "plt.title('Training and validation accuracy')\n",
    "plt.xlabel('Epochs')\n",
    "plt.ylabel('Accuracy')\n",
    "plt.legend()\n",
    "\n",
    "plt.show()"
   ]
  },
  {
   "cell_type": "markdown",
   "id": "ab2266f3",
   "metadata": {},
   "source": [
    "### 7) 학습된 Embedding 레이어 분석"
   ]
  },
  {
   "cell_type": "code",
   "execution_count": 48,
   "id": "64ed68a5",
   "metadata": {},
   "outputs": [
    {
     "name": "stdout",
     "output_type": "stream",
     "text": [
      "(10000, 16)\n"
     ]
    }
   ],
   "source": [
    "embedding_layer = model.layers[0]\n",
    "weights = embedding_layer.get_weights()[0]\n",
    "print(weights.shape)    # shape: (vocab_size, embedding_dim)"
   ]
  },
  {
   "cell_type": "code",
   "execution_count": 49,
   "id": "02245d33",
   "metadata": {},
   "outputs": [],
   "source": [
    "# 학습한 Embedding 파라미터를 파일에 써서 저장합니다. \n",
    "word2vec_file_path = os.getenv('HOME')+'/aiffel/sentiment_classification/data/word2vec_gmp.txt'\n",
    "f = open(word2vec_file_path, 'w')\n",
    "f.write('{} {}\\n'.format(vocab_size-4, word_vector_dim))  # 몇개의 벡터를 얼마 사이즈로 기재할지 타이틀을 씁니다.\n",
    "\n",
    "# 단어 개수(에서 특수문자 4개는 제외하고)만큼의 워드 벡터를 파일에 기록합니다. \n",
    "vectors = model.get_weights()[0]\n",
    "for i in range(4,vocab_size):\n",
    "    f.write('{} {}\\n'.format(index_to_word[i], ' '.join(map(str, list(vectors[i, :])))))\n",
    "f.close()"
   ]
  },
  {
   "cell_type": "code",
   "execution_count": 50,
   "id": "da73fee7",
   "metadata": {},
   "outputs": [],
   "source": [
    "word_vectors = Word2VecKeyedVectors.load_word2vec_format(word2vec_file_path, binary=False)"
   ]
  },
  {
   "cell_type": "code",
   "execution_count": 51,
   "id": "91297467",
   "metadata": {},
   "outputs": [
    {
     "data": {
      "text/plain": [
       "array([-0.02716972, -0.14069444, -0.00607205, -0.22184633, -0.32154658,\n",
       "       -0.27684543, -0.03387519, -0.1538319 , -0.25036922, -0.22971706,\n",
       "       -0.17429683, -0.11242203, -0.08860856,  0.01486629,  0.06705485,\n",
       "       -0.17510216], dtype=float32)"
      ]
     },
     "execution_count": 51,
     "metadata": {},
     "output_type": "execute_result"
    }
   ],
   "source": [
    "from gensim.models.keyedvectors import Word2VecKeyedVectors\n",
    "\n",
    "word_vectors = Word2VecKeyedVectors.load_word2vec_format(word2vec_file_path, binary=False)\n",
    "vector = word_vectors['재미']\n",
    "vector"
   ]
  },
  {
   "cell_type": "code",
   "execution_count": 52,
   "id": "efac418c",
   "metadata": {},
   "outputs": [
    {
     "data": {
      "text/plain": [
       "[('박보영', 0.9381862282752991),\n",
       " ('가져다', 0.9326872229576111),\n",
       " ('성장', 0.9263970851898193),\n",
       " ('독립', 0.9192556142807007),\n",
       " ('로빈', 0.9155206680297852),\n",
       " ('만든', 0.9085784554481506),\n",
       " ('극도', 0.9080103635787964),\n",
       " ('나았', 0.8992154598236084),\n",
       " ('그', 0.8960434198379517),\n",
       " ('미사', 0.891055166721344)]"
      ]
     },
     "execution_count": 52,
     "metadata": {},
     "output_type": "execute_result"
    }
   ],
   "source": [
    "word_vectors.similar_by_word(\"재미\")"
   ]
  },
  {
   "cell_type": "markdown",
   "id": "403bdb9b",
   "metadata": {},
   "source": [
    "### 8) 한국어 Word2Vec 임베딩 활용하여 성능 개선"
   ]
  },
  {
   "cell_type": "code",
   "execution_count": 53,
   "id": "b497af1d",
   "metadata": {},
   "outputs": [],
   "source": [
    "from gensim.models import KeyedVectors\n",
    "\n",
    "word2vec_path = os.getenv('HOME')+'/aiffel/sentiment_classification/data/ko.bin' \n",
    "word2vec = gensim.models.Word2Vec.load(word2vec_path)"
   ]
  },
  {
   "cell_type": "code",
   "execution_count": 54,
   "id": "43288af1",
   "metadata": {},
   "outputs": [
    {
     "name": "stderr",
     "output_type": "stream",
     "text": [
      "/tmp/ipykernel_5055/1072433422.py:2: DeprecationWarning: Call to deprecated `similar_by_word` (Method will be removed in 4.0.0, use self.wv.similar_by_word() instead).\n",
      "  word2vec.similar_by_word(\"재미\")\n"
     ]
    },
    {
     "data": {
      "text/plain": [
       "[('취미', 0.5857348442077637),\n",
       " ('유머', 0.5140613913536072),\n",
       " ('매력', 0.5105490684509277),\n",
       " ('흥미', 0.4988338351249695),\n",
       " ('공짜', 0.4960595667362213),\n",
       " ('일자리', 0.49294644594192505),\n",
       " ('즐거움', 0.48700767755508423),\n",
       " ('비애', 0.4836210310459137),\n",
       " ('관객', 0.48286449909210205),\n",
       " ('향수', 0.4823310971260071)]"
      ]
     },
     "execution_count": 54,
     "metadata": {},
     "output_type": "execute_result"
    }
   ],
   "source": [
    "# 메모리를 다소 많이 소비하는 작업이니 유의해 주세요.\n",
    "word2vec.similar_by_word(\"재미\")"
   ]
  },
  {
   "cell_type": "code",
   "execution_count": 56,
   "id": "d9e50d85",
   "metadata": {},
   "outputs": [
    {
     "name": "stderr",
     "output_type": "stream",
     "text": [
      "/tmp/ipykernel_5055/1324384006.py:9: DeprecationWarning: Call to deprecated `__contains__` (Method will be removed in 4.0.0, use self.wv.__contains__() instead).\n",
      "  if index_to_word[i] in word2vec:\n",
      "/tmp/ipykernel_5055/1324384006.py:10: DeprecationWarning: Call to deprecated `__getitem__` (Method will be removed in 4.0.0, use self.wv.__getitem__() instead).\n",
      "  embedding_matrix[i] = word2vec[index_to_word[i]]\n"
     ]
    }
   ],
   "source": [
    "from tensorflow.keras.initializers import Constant\n",
    "\n",
    "vocab_size = 10000    # 어휘 사전의 크기입니다(10,000개의 단어)\n",
    "word_vector_dim = 200  # 워드 벡터의 차원수 \n",
    "embedding_matrix = np.random.rand(vocab_size, word_vector_dim)\n",
    "\n",
    "# embedding_matrix에 Word2Vec 워드 벡터를 단어 하나씩마다 차례차례 카피한다.\n",
    "for i in range(4,vocab_size):\n",
    "    if index_to_word[i] in word2vec:\n",
    "        embedding_matrix[i] = word2vec[index_to_word[i]]"
   ]
  },
  {
   "cell_type": "code",
   "execution_count": 89,
   "id": "cd2584a4",
   "metadata": {},
   "outputs": [
    {
     "name": "stdout",
     "output_type": "stream",
     "text": [
      "Model: \"sequential_9\"\n",
      "_________________________________________________________________\n",
      "Layer (type)                 Output Shape              Param #   \n",
      "=================================================================\n",
      "embedding_9 (Embedding)      (None, 41, 200)           2000000   \n",
      "_________________________________________________________________\n",
      "lstm_1 (LSTM)                (None, 128)               168448    \n",
      "_________________________________________________________________\n",
      "dense_8 (Dense)              (None, 1)                 129       \n",
      "=================================================================\n",
      "Total params: 2,168,577\n",
      "Trainable params: 2,168,577\n",
      "Non-trainable params: 0\n",
      "_________________________________________________________________\n"
     ]
    }
   ],
   "source": [
    "#LSTM 모델 구성\n",
    "model = keras.Sequential()\n",
    "model.add(keras.layers.Embedding(vocab_size, \n",
    "                                 word_vector_dim, \n",
    "                                 embeddings_initializer=Constant(embedding_matrix),  #카피한 임베딩을 여기서 활용\n",
    "                                 input_length=maxlen, \n",
    "                                 trainable=True))   #trainable을 True로 주면 Fine-tuning\n",
    "model.add(keras.layers.LSTM(128))\n",
    "model.add(keras.layers.Dense(1, activation='sigmoid'))\n",
    "\n",
    "model.summary()"
   ]
  },
  {
   "cell_type": "code",
   "execution_count": 90,
   "id": "46c0872f",
   "metadata": {},
   "outputs": [
    {
     "name": "stdout",
     "output_type": "stream",
     "text": [
      "Epoch 1/20\n",
      "2128/2128 [==============================] - 13s 6ms/step - loss: 0.3798 - accuracy: 0.8269 - val_loss: 0.3135 - val_accuracy: 0.8647\n",
      "Epoch 2/20\n",
      "2128/2128 [==============================] - 12s 5ms/step - loss: 0.2828 - accuracy: 0.8808 - val_loss: 0.3006 - val_accuracy: 0.8710\n",
      "Epoch 3/20\n",
      "2128/2128 [==============================] - 12s 5ms/step - loss: 0.2390 - accuracy: 0.9018 - val_loss: 0.3067 - val_accuracy: 0.8766\n",
      "Epoch 4/20\n",
      "2128/2128 [==============================] - 12s 5ms/step - loss: 0.1987 - accuracy: 0.9198 - val_loss: 0.3184 - val_accuracy: 0.8684\n",
      "Epoch 5/20\n",
      "2128/2128 [==============================] - 12s 6ms/step - loss: 0.1587 - accuracy: 0.9379 - val_loss: 0.3530 - val_accuracy: 0.8692\n",
      "Epoch 6/20\n",
      "2128/2128 [==============================] - 12s 6ms/step - loss: 0.1213 - accuracy: 0.9542 - val_loss: 0.4004 - val_accuracy: 0.8645\n",
      "Epoch 7/20\n",
      "2128/2128 [==============================] - 12s 5ms/step - loss: 0.0918 - accuracy: 0.9670 - val_loss: 0.4634 - val_accuracy: 0.8630\n",
      "Epoch 8/20\n",
      "2128/2128 [==============================] - 12s 5ms/step - loss: 0.0681 - accuracy: 0.9756 - val_loss: 0.5431 - val_accuracy: 0.8616\n",
      "Epoch 9/20\n",
      "2128/2128 [==============================] - 12s 5ms/step - loss: 0.0540 - accuracy: 0.9811 - val_loss: 0.5845 - val_accuracy: 0.8586\n",
      "Epoch 10/20\n",
      "2128/2128 [==============================] - 12s 5ms/step - loss: 0.0451 - accuracy: 0.9840 - val_loss: 0.6152 - val_accuracy: 0.8565\n",
      "Epoch 11/20\n",
      "2128/2128 [==============================] - 12s 5ms/step - loss: 0.0381 - accuracy: 0.9864 - val_loss: 0.6755 - val_accuracy: 0.8598\n",
      "Epoch 12/20\n",
      "2128/2128 [==============================] - 12s 5ms/step - loss: 0.0306 - accuracy: 0.9889 - val_loss: 0.7142 - val_accuracy: 0.8579\n",
      "Epoch 13/20\n",
      "2128/2128 [==============================] - 12s 5ms/step - loss: 0.0299 - accuracy: 0.9893 - val_loss: 0.7430 - val_accuracy: 0.8569\n",
      "Epoch 14/20\n",
      "2128/2128 [==============================] - 12s 5ms/step - loss: 0.0260 - accuracy: 0.9908 - val_loss: 0.8329 - val_accuracy: 0.8587\n",
      "Epoch 15/20\n",
      "2128/2128 [==============================] - 12s 5ms/step - loss: 0.0255 - accuracy: 0.9908 - val_loss: 0.8341 - val_accuracy: 0.8559\n",
      "Epoch 16/20\n",
      "2128/2128 [==============================] - 12s 5ms/step - loss: 0.0207 - accuracy: 0.9925 - val_loss: 0.8501 - val_accuracy: 0.8567\n",
      "Epoch 17/20\n",
      "2128/2128 [==============================] - 12s 5ms/step - loss: 0.0208 - accuracy: 0.9923 - val_loss: 0.8904 - val_accuracy: 0.8548\n",
      "Epoch 18/20\n",
      "2128/2128 [==============================] - 12s 6ms/step - loss: 0.0204 - accuracy: 0.9925 - val_loss: 0.8823 - val_accuracy: 0.8556\n",
      "Epoch 19/20\n",
      "2128/2128 [==============================] - 12s 6ms/step - loss: 0.0194 - accuracy: 0.9927 - val_loss: 0.9094 - val_accuracy: 0.8578\n",
      "Epoch 20/20\n",
      "2128/2128 [==============================] - 12s 6ms/step - loss: 0.0181 - accuracy: 0.9931 - val_loss: 0.9166 - val_accuracy: 0.8551\n"
     ]
    }
   ],
   "source": [
    "# 학습의 진행\n",
    "model.compile(optimizer='adam',\n",
    "              loss='binary_crossentropy',\n",
    "              metrics=['accuracy'])\n",
    "              \n",
    "epochs=20  # 몇 epoch를 훈련하면 좋을지 결과를 보면서 바꾸어 봅시다. \n",
    "\n",
    "history = model.fit(partial_X_train,\n",
    "                    partial_y_train,\n",
    "                    epochs=epochs,\n",
    "                    batch_size=64,\n",
    "                    validation_data=(X_val, y_val),\n",
    "                    verbose=1)"
   ]
  },
  {
   "cell_type": "code",
   "execution_count": 91,
   "id": "2919d852",
   "metadata": {},
   "outputs": [
    {
     "name": "stdout",
     "output_type": "stream",
     "text": [
      "dict_keys(['loss', 'accuracy', 'val_loss', 'val_accuracy'])\n"
     ]
    }
   ],
   "source": [
    "history_dict = history.history\n",
    "print(history_dict.keys()) # epoch에 따른 그래프를 그려볼 수 있는 항목들"
   ]
  },
  {
   "cell_type": "code",
   "execution_count": 92,
   "id": "d3a85500",
   "metadata": {},
   "outputs": [
    {
     "data": {
      "image/png": "[encoded data removed]",
      "text/plain": [
       "<Figure size 432x288 with 1 Axes>"
      ]
     },
     "metadata": {
      "needs_background": "light"
     },
     "output_type": "display_data"
    }
   ],
   "source": [
    "acc = history_dict['accuracy']\n",
    "val_acc = history_dict['val_accuracy']\n",
    "loss = history_dict['loss']\n",
    "val_loss = history_dict['val_loss']\n",
    "\n",
    "epochs = range(1, len(acc) + 1)\n",
    "\n",
    "# \"bo\"는 \"파란색 점\"입니다\n",
    "plt.plot(epochs, loss, 'bo', label='Training loss')\n",
    "# b는 \"파란 실선\"입니다\n",
    "plt.plot(epochs, val_loss, 'b', label='Validation loss')\n",
    "plt.title('Training and validation loss')\n",
    "plt.xlabel('Epochs')\n",
    "plt.ylabel('Loss')\n",
    "plt.legend()\n",
    "\n",
    "plt.show()"
   ]
  },
  {
   "cell_type": "code",
   "execution_count": 93,
   "id": "9170c464",
   "metadata": {
    "scrolled": true
   },
   "outputs": [
    {
     "data": {
      "image/png": "[encoded data removed]",
      "text/plain": [
       "<Figure size 432x288 with 1 Axes>"
      ]
     },
     "metadata": {
      "needs_background": "light"
     },
     "output_type": "display_data"
    }
   ],
   "source": [
    "plt.clf()   # 그림을 초기화합니다\n",
    "\n",
    "plt.plot(epochs, acc, 'bo', label='Training acc')\n",
    "plt.plot(epochs, val_acc, 'b', label='Validation acc')\n",
    "plt.title('Training and validation accuracy')\n",
    "plt.xlabel('Epochs')\n",
    "plt.ylabel('Accuracy')\n",
    "plt.legend()\n",
    "\n",
    "plt.show()"
   ]
  },
  {
   "cell_type": "code",
   "execution_count": 94,
   "id": "21facf1e",
   "metadata": {},
   "outputs": [
    {
     "name": "stdout",
     "output_type": "stream",
     "text": [
      "1537/1537 - 3s - loss: 0.9054 - accuracy: 0.8522\n",
      "[0.9053950905799866, 0.852228581905365]\n"
     ]
    }
   ],
   "source": [
    "# 테스트셋을 통한 모델 평가\n",
    "results = model.evaluate(X_test,  y_test, verbose=2)\n",
    "\n",
    "print(results)"
   ]
  },
  {
   "cell_type": "code",
   "execution_count": null,
   "id": "133f8b82",
   "metadata": {},
   "outputs": [],
   "source": []
  },
  {
   "attachments": {
    "image.png": {
     "image/png": "[encoded data removed]"
    }
   },
   "cell_type": "markdown",
   "id": "e314a70c",
   "metadata": {},
   "source": [
    "# Exploration 6 회고\n",
    "  \n",
    "  \n",
    "### 3가지 모델 구현 결과  \n",
    "RNN 모델 : 0.8449  \n",
    "1-D Convolution Neural Network(1-D CNN)모델 : 0.8165  \n",
    "GlobalMaxPooling1D() : 0.8322  \n",
    "  \n",
    "3가지 모델 중 **가장 성능이 좋은 모델은 RNN모델**이었다. 거의 85%에 가까운 정확도를 보여주었다.  \n",
    "  \n",
    "  \n",
    "  \n",
    "  \n",
    "### 한국어 Word2Vec을 활용한 LSTM 모델  \n",
    "**85%의 정확도를 위해 시도**  \n",
    "1차 : LSTM(8), epochs=20, batch_size=512 = 0.8319  \n",
    "2차 : LSTM(8), epochs=10, batch_size=512 = 0.8276  \n",
    "3차 : LSTM(8), epochs=5, batch_size=512 = 0.8240 \n",
    "  --> epochs 문제가 아니란 것을 확인, epochs 20의 정확도가 가장 높으니 20으로 진행  \n",
    "4차 : LSTM(8), epochs=20, batch_size=128 = 0.8260  \n",
    "5차 : LSTM(8), epochs=20, batch_size=64 = 0.8279  \n",
    "  --> batch_size 또한 정확도를 올리는데에 크게 기여하지 않음, 64의 정확도가 더 높으니 64로 진행  \n",
    "6차 : LSTM(128), epochs=20, batch_size=64 = 0.8522  \n",
    "  --> 모델 구성시 LSTM의 값을 128로 올려주었더니 정확도 향상. **최종 85.2%의 정확도**를 보여 가시적인 성능 향상을 달성했다.  \n",
    "  \n",
    "  \n",
    "  \n",
    "  \n",
    "### 항상 역대급 역대급 힘들다고 하는데, 이번 프로젝트가 역대급으로 힘들었다. 힘들었던 점 모음\n",
    "  \n",
    "  \n",
    "**(1) 라이브러리 import**  \n",
    "보통 실습 후 프로젝트를 진행 할 때, 앞서 진행한 LMS실습에서 사용한 라이브러리를 그대로 참고하여 사용하는데, 이번 프로젝트는 앞선 lms실습에서 사용하지 않았는데 필요한 라이브러리가 많았다. 가령 tf.keras였는데 이건 keras라서 새로 import해야된다던가...하는 자잘자잘한 import 덕분에 인터넷 서치 능력이 향상되었다 ㅋㅋ. 항상 라이브러리 import는 스스로 해보지 않았는데, 이번 기회에 슬슬 라이브러리 서치해서 넣고 하는 경험도 나쁘지 않았다.  \n",
    "\n",
    "\n",
    "\n",
    "**(2) 데이터로더 구성**  \n",
    "주어진 예시답안을 그대로 사용하는 줄 알고 패딩을 추가하는데, 자꾸  value=word_to_index\"PAD\"라는 오류가 났다. 알고보니 PAD, BOS, UNK, UNUSED가 안들어가 있었던 것. 실습에서는 word_to_index \"PAD\" = 0, word_to_index \"BOS\" = 1, word_to_index\"UNK>\" = 2로 하나씩 지정해줬는데, 따로 데이터로더 밑에다가 새로 지정을 해야하는지 유심히 찾다가, vocab안이 비어있는 것을 발견했다. 그래서 vocab = 'PAD', 'BOS', 'UNK', 'UNUSED']으로 안에 넣어줬는데 이렇게 하는게 맞는건지 .. 그리고 word_to_index에 넣는 것과 같은 의미로 사용되는지 의심스럽지만 오류가 나지 않기에 그대로 진행했다.(괜히 예시로 준거 밑에 새로 만들면 오류뜰까봐 무서웠는데 역시나 하나하나 지정해주니까 오류가뜨길래 하지 않았다 .. ㅎㅎ 내 생각에는 word_to_index 지정 후 뒤에 저거 말고 더 필요한게 있는데 내가 못 찾는 느낌)  \n",
    "    \n",
    "    \n",
    "    \n",
    "**(3) 3가지 모델 구현**  \n",
    "모델 구성 및 validation set 구성부터 모델을 3가지로 나누었는데, 처음에는 모델 3개를 다 만들어 놓고 그 다음 순서인 모델 훈련이랑 시각화 임베딩까지 진행했다. 모델을 3개를 한번에 훈련 시각화 임베딩을 진행하다보니 구분이 안되서 다 같은 값이 도출되었다. 그래서 model을 각각 rnn,cnn,gmp로 다 바꿔서 rnn.add 이런식으로 했는데, 뭘 잘못했는지 자꾸 오류가 났다 .. 마지막으로 그냥 한개씩 하자 싶어 모델별로 한 번에 훈련, 시각화, 임베딩을 진행하니 각각의 값이 제대로 도출되었다. 이 과정을 수행해보는데 시간이 많이 걸렸지만 결국에 각각 다른 값으로 잘 도출되어 다행이었다.  \n",
    "    \n",
    "    \n",
    "    \n",
    "**(4) 한국어 Word2Vec 임베딩 활용하여 성능 개선**  \n",
    "이 프로젝트는 한국어 Word2Vec 임베딩 활용하여 성능 개선 때문에 시간이 가장 오래 걸리고 힘들었다고 해도 과언이 아니다.\n",
    "  \n",
    "첫 번째로, word2vec = gensim.models.Word2Vec.load(word2vec_path) 을 하는데 자꾸 AttributeError : Can't get attribute 'Vocabb' on (module 'gensim.models.word2vec' from ~ 라는 오류가 발생했다. 찾아본 결과, gensim의 버전이 4.0이 아닌 3.n으로 해야 오류가 나지 않는 다는 것을 발견했다.(이 부분은 프로젝트 루브릭에도 작성되어있어, 금방 진행 할 수 있었다.)  \n",
    "  \n",
    "문제는 지금부터였다. gensim의 버전을 4.0에서 3.n으로 낮추려고 pip install --upgrade gensim==3.8.3을 진행하는데 사진과 같은 알 수 없는 Warning이 발생했다.  \n",
    "![image.png](attachment:image.png)  \n",
    "아무리 찾아봐도 남들은 다 3.n으로 바꾸면 해결된다는 문제를 해결하지 못하고, 온갖 검색식을 동원해 가상환경으로 설치해야 한다는 점을 알아냈다. 결국 다양한 시도 끝에,     $ conda uninstall gensim / $ conda install gensim==3.4.0으로 해결되었다. 하지만 아직까지 더 정확한 해결 방법을 알고싶었는데 알지 못해서 찝찝하다. 가상환경에 대해 좀 더 공부해볼 필요가 있을 듯 했다.  \n",
    "  \n",
    "마지막으로, 이전과 같이 word_vector_dim = 300으로 설정해주었는데, Eager execution of tf.constant with unsupported shape (value has 2000000 elements, shape is (10000, 300) with 3000000 elements)라는 오류가 발생했다. 위 오류는 200으로 수정하니 해결되었지만, 아직까지 오류에 대한 이해가 되지 않는다.  \n",
    "  \n",
    "  \n",
    "  \n",
    "  \n",
    "지난 익스5도 그렇고 나는 자연어처리에 약한가 싶다 .. 그냥 이 분야가 어려운거겠지? 라는 행복회로 ㅠ 아무튼 정확도를 85%까지 올리게 되어 이정도면 나는 엄청나게 만족한다. 아예 한국어 Word2Vec도 오류난 상태로 제출해야 되겠다고 생각했었으니까 .. 프로젝트들은 할 때는 힘든데 오류를 해결하고 알아내는 과정에서 뭔가 작은 희열이 온다. 아무튼 회고 쓸 힘도 없을 만큼 힘들었는데 이번 프로젝트는 안풀리던 실마리가 해결되서 그런지 쓸 말이 많다. 다음 익스도 화이팅 =)  \n",
    "  \n",
    "  \n",
    "  \n",
    "---\n",
    "2022-01-27"
   ]
  }
 ],
 "metadata": {
  "kernelspec": {
   "display_name": "Python 3 (ipykernel)",
   "language": "python",
   "name": "python3"
  },
  "language_info": {
   "codemirror_mode": {
    "name": "ipython",
    "version": 3
   },
   "file_extension": ".py",
   "mimetype": "text/x-python",
   "name": "python",
   "nbconvert_exporter": "python",
   "pygments_lexer": "ipython3",
   "version": "3.9.7"
  }
 },
 "nbformat": 4,
 "nbformat_minor": 5
}
